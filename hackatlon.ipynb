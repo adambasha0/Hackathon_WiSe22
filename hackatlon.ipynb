{
 "cells": [
  {
   "cell_type": "code",
   "execution_count": 2,
   "metadata": {
    "collapsed": true
   },
   "outputs": [],
   "source": [
    "import os\n",
    "\n",
    "import keras as keras\n",
    "import numpy as np\n",
    "import pandas as pd"
   ]
  },
  {
   "cell_type": "code",
   "execution_count": 3,
   "outputs": [],
   "source": [
    "dfClassCAD = pd.read_csv('/Users/niklasklein/HackathonData/CAD/ClassCAD_train.csv')\n",
    "CAD = dfClassCAD.to_numpy()"
   ],
   "metadata": {
    "collapsed": false
   }
  },
  {
   "cell_type": "code",
   "execution_count": 4,
   "outputs": [
    {
     "data": {
      "text/plain": "(572, 40)"
     },
     "execution_count": 4,
     "metadata": {},
     "output_type": "execute_result"
    }
   ],
   "source": [
    "dfClassCAD.shape"
   ],
   "metadata": {
    "collapsed": false
   }
  },
  {
   "cell_type": "code",
   "execution_count": 5,
   "outputs": [
    {
     "data": {
      "text/plain": "  sample_ID  Bacteria;Abditibacteriota;Abditibacteria  \\\n0    H26709                                         0   \n1    H26781                                         0   \n2    H26800                                         0   \n3    H26721                                         0   \n4    H27098                                         0   \n\n   Bacteria;Acidobacteriota;Aminicenantia  \\\n0                                       0   \n1                                       0   \n2                                       0   \n3                                       0   \n4                                       0   \n\n   Bacteria;Acidobacteriota;Blastocatellia  \\\n0                                        0   \n1                                        0   \n2                                        0   \n3                                        0   \n4                                        0   \n\n   Bacteria;Actinobacteriota;Acidimicrobiia  \\\n0                                         0   \n1                                         0   \n2                                         0   \n3                                         0   \n4                                         0   \n\n   Bacteria;Actinobacteriota;Actinobacteria  \\\n0                                         1   \n1                                        17   \n2                                         2   \n3                                         5   \n4                                         0   \n\n   Bacteria;Actinobacteriota;Coriobacteriia  \\\n0                                        11   \n1                                       342   \n2                                        33   \n3                                         3   \n4                                       108   \n\n   Bacteria;Actinobacteriota;Thermoleophilia  \\\n0                                          0   \n1                                          0   \n2                                          0   \n3                                          0   \n4                                          0   \n\n   Bacteria;Bacteroidota;Bacteroidia  \\\n0                               5381   \n1                               2364   \n2                               4583   \n3                               5578   \n4                              11306   \n\n   Bacteria;Bdellovibrionota;Bdellovibrionia  ...  \\\n0                                          0  ...   \n1                                          0  ...   \n2                                          0  ...   \n3                                          0  ...   \n4                                          0  ...   \n\n   Bacteria;Nitrospirota;Nitrospiria  \\\n0                                  0   \n1                                  0   \n2                                  0   \n3                                  0   \n4                                  0   \n\n   Bacteria;Patescibacteria;Saccharimonadia  \\\n0                                         0   \n1                                         0   \n2                                         0   \n3                                         0   \n4                                         0   \n\n   Bacteria;Proteobacteria;Alphaproteobacteria  \\\n0                                            1   \n1                                            0   \n2                                            0   \n3                                            0   \n4                                           38   \n\n   Bacteria;Proteobacteria;Gammaproteobacteria  \\\n0                                          367   \n1                                         1016   \n2                                          120   \n3                                         1721   \n4                                          686   \n\n   Bacteria;Spirochaetota;Brachyspirae  Bacteria;Spirochaetota;Spirochaetia  \\\n0                                    0                                    0   \n1                                    0                                    0   \n2                                    0                                    0   \n3                                    0                                    0   \n4                                    0                                    0   \n\n   Bacteria;Synergistota;Synergistia  \\\n0                                  0   \n1                                  0   \n2                                  0   \n3                                  0   \n4                                  0   \n\n   Bacteria;Verrucomicrobiota;Lentisphaeria  \\\n0                                         0   \n1                                         0   \n2                                         0   \n3                                         0   \n4                                         0   \n\n   Bacteria;Verrucomicrobiota;Verrucomicrobiae  label  \n0                                            1      0  \n1                                            0      1  \n2                                            1      0  \n3                                            0      0  \n4                                            1      0  \n\n[5 rows x 40 columns]",
      "text/html": "<div>\n<style scoped>\n    .dataframe tbody tr th:only-of-type {\n        vertical-align: middle;\n    }\n\n    .dataframe tbody tr th {\n        vertical-align: top;\n    }\n\n    .dataframe thead th {\n        text-align: right;\n    }\n</style>\n<table border=\"1\" class=\"dataframe\">\n  <thead>\n    <tr style=\"text-align: right;\">\n      <th></th>\n      <th>sample_ID</th>\n      <th>Bacteria;Abditibacteriota;Abditibacteria</th>\n      <th>Bacteria;Acidobacteriota;Aminicenantia</th>\n      <th>Bacteria;Acidobacteriota;Blastocatellia</th>\n      <th>Bacteria;Actinobacteriota;Acidimicrobiia</th>\n      <th>Bacteria;Actinobacteriota;Actinobacteria</th>\n      <th>Bacteria;Actinobacteriota;Coriobacteriia</th>\n      <th>Bacteria;Actinobacteriota;Thermoleophilia</th>\n      <th>Bacteria;Bacteroidota;Bacteroidia</th>\n      <th>Bacteria;Bdellovibrionota;Bdellovibrionia</th>\n      <th>...</th>\n      <th>Bacteria;Nitrospirota;Nitrospiria</th>\n      <th>Bacteria;Patescibacteria;Saccharimonadia</th>\n      <th>Bacteria;Proteobacteria;Alphaproteobacteria</th>\n      <th>Bacteria;Proteobacteria;Gammaproteobacteria</th>\n      <th>Bacteria;Spirochaetota;Brachyspirae</th>\n      <th>Bacteria;Spirochaetota;Spirochaetia</th>\n      <th>Bacteria;Synergistota;Synergistia</th>\n      <th>Bacteria;Verrucomicrobiota;Lentisphaeria</th>\n      <th>Bacteria;Verrucomicrobiota;Verrucomicrobiae</th>\n      <th>label</th>\n    </tr>\n  </thead>\n  <tbody>\n    <tr>\n      <th>0</th>\n      <td>H26709</td>\n      <td>0</td>\n      <td>0</td>\n      <td>0</td>\n      <td>0</td>\n      <td>1</td>\n      <td>11</td>\n      <td>0</td>\n      <td>5381</td>\n      <td>0</td>\n      <td>...</td>\n      <td>0</td>\n      <td>0</td>\n      <td>1</td>\n      <td>367</td>\n      <td>0</td>\n      <td>0</td>\n      <td>0</td>\n      <td>0</td>\n      <td>1</td>\n      <td>0</td>\n    </tr>\n    <tr>\n      <th>1</th>\n      <td>H26781</td>\n      <td>0</td>\n      <td>0</td>\n      <td>0</td>\n      <td>0</td>\n      <td>17</td>\n      <td>342</td>\n      <td>0</td>\n      <td>2364</td>\n      <td>0</td>\n      <td>...</td>\n      <td>0</td>\n      <td>0</td>\n      <td>0</td>\n      <td>1016</td>\n      <td>0</td>\n      <td>0</td>\n      <td>0</td>\n      <td>0</td>\n      <td>0</td>\n      <td>1</td>\n    </tr>\n    <tr>\n      <th>2</th>\n      <td>H26800</td>\n      <td>0</td>\n      <td>0</td>\n      <td>0</td>\n      <td>0</td>\n      <td>2</td>\n      <td>33</td>\n      <td>0</td>\n      <td>4583</td>\n      <td>0</td>\n      <td>...</td>\n      <td>0</td>\n      <td>0</td>\n      <td>0</td>\n      <td>120</td>\n      <td>0</td>\n      <td>0</td>\n      <td>0</td>\n      <td>0</td>\n      <td>1</td>\n      <td>0</td>\n    </tr>\n    <tr>\n      <th>3</th>\n      <td>H26721</td>\n      <td>0</td>\n      <td>0</td>\n      <td>0</td>\n      <td>0</td>\n      <td>5</td>\n      <td>3</td>\n      <td>0</td>\n      <td>5578</td>\n      <td>0</td>\n      <td>...</td>\n      <td>0</td>\n      <td>0</td>\n      <td>0</td>\n      <td>1721</td>\n      <td>0</td>\n      <td>0</td>\n      <td>0</td>\n      <td>0</td>\n      <td>0</td>\n      <td>0</td>\n    </tr>\n    <tr>\n      <th>4</th>\n      <td>H27098</td>\n      <td>0</td>\n      <td>0</td>\n      <td>0</td>\n      <td>0</td>\n      <td>0</td>\n      <td>108</td>\n      <td>0</td>\n      <td>11306</td>\n      <td>0</td>\n      <td>...</td>\n      <td>0</td>\n      <td>0</td>\n      <td>38</td>\n      <td>686</td>\n      <td>0</td>\n      <td>0</td>\n      <td>0</td>\n      <td>0</td>\n      <td>1</td>\n      <td>0</td>\n    </tr>\n  </tbody>\n</table>\n<p>5 rows × 40 columns</p>\n</div>"
     },
     "execution_count": 5,
     "metadata": {},
     "output_type": "execute_result"
    }
   ],
   "source": [
    "dfClassCAD.head(\n",
    ")"
   ],
   "metadata": {
    "collapsed": false
   }
  },
  {
   "cell_type": "code",
   "execution_count": 6,
   "outputs": [],
   "source": [
    "dfClassCKD = pd.read_csv('/Users/niklasklein/HackathonData/CKD/ClassCKD_train.csv')\n",
    "CKD = dfClassCKD.to_numpy()"
   ],
   "metadata": {
    "collapsed": false
   }
  },
  {
   "cell_type": "code",
   "execution_count": 7,
   "outputs": [
    {
     "data": {
      "text/plain": "(559, 40)"
     },
     "execution_count": 7,
     "metadata": {},
     "output_type": "execute_result"
    }
   ],
   "source": [
    "dfClassCKD.shape"
   ],
   "metadata": {
    "collapsed": false
   }
  },
  {
   "cell_type": "code",
   "execution_count": 7,
   "outputs": [],
   "source": [],
   "metadata": {
    "collapsed": false
   }
  },
  {
   "cell_type": "code",
   "execution_count": 8,
   "outputs": [],
   "source": [
    "dfClassIBD = pd.read_csv('/Users/niklasklein/HackathonData/IBD/ClassIBD_train.csv')\n",
    "IBD = dfClassIBD.to_numpy()"
   ],
   "metadata": {
    "collapsed": false
   }
  },
  {
   "cell_type": "code",
   "execution_count": 9,
   "outputs": [
    {
     "data": {
      "text/plain": "(614, 42)"
     },
     "execution_count": 9,
     "metadata": {},
     "output_type": "execute_result"
    }
   ],
   "source": [
    "dfClassIBD.shape"
   ],
   "metadata": {
    "collapsed": false
   }
  },
  {
   "cell_type": "code",
   "execution_count": 9,
   "outputs": [],
   "source": [],
   "metadata": {
    "collapsed": false
   }
  },
  {
   "cell_type": "code",
   "execution_count": 10,
   "outputs": [],
   "source": [
    "dfClassT2D = pd.read_csv('/Users/niklasklein/HackathonData/T2D/ClassT2D_train.csv')\n",
    "T2D = dfClassT2D.to_numpy()"
   ],
   "metadata": {
    "collapsed": false
   }
  },
  {
   "cell_type": "code",
   "execution_count": 11,
   "outputs": [
    {
     "data": {
      "text/plain": "(1048, 48)"
     },
     "execution_count": 11,
     "metadata": {},
     "output_type": "execute_result"
    }
   ],
   "source": [
    "dfClassT2D.shape"
   ],
   "metadata": {
    "collapsed": false
   }
  },
  {
   "cell_type": "code",
   "execution_count": 12,
   "outputs": [
    {
     "data": {
      "text/plain": "  sample_ID  Bacteria;Abditibacteriota;Abditibacteria  \\\n0    H34099                                         0   \n1    H26094                                         0   \n2    H26935                                         0   \n3    H25822                                         0   \n4    H27104                                         0   \n\n   Bacteria;Acidobacteriota;Aminicenantia  \\\n0                                       0   \n1                                       0   \n2                                       0   \n3                                       0   \n4                                       0   \n\n   Bacteria;Acidobacteriota;Blastocatellia  \\\n0                                        0   \n1                                        0   \n2                                        0   \n3                                        0   \n4                                        0   \n\n   Bacteria;Acidobacteriota;Subgroup 19  \\\n0                                     0   \n1                                     0   \n2                                     0   \n3                                     0   \n4                                     0   \n\n   Bacteria;Acidobacteriota;Vicinamibacteria  \\\n0                                          0   \n1                                          0   \n2                                          0   \n3                                          0   \n4                                          0   \n\n   Bacteria;Actinobacteriota;Acidimicrobiia  \\\n0                                         0   \n1                                         0   \n2                                         0   \n3                                         0   \n4                                         0   \n\n   Bacteria;Actinobacteriota;Actinobacteria  \\\n0                                       148   \n1                                         0   \n2                                         2   \n3                                         4   \n4                                         3   \n\n   Bacteria;Actinobacteriota;Coriobacteriia  \\\n0                                       818   \n1                                         9   \n2                                        35   \n3                                        22   \n4                                        11   \n\n   Bacteria;Actinobacteriota;Thermoleophilia  ...  \\\n0                                          0  ...   \n1                                          0  ...   \n2                                          0  ...   \n3                                          0  ...   \n4                                          0  ...   \n\n   Bacteria;Patescibacteria;Parcubacteria  \\\n0                                       0   \n1                                       0   \n2                                       0   \n3                                       0   \n4                                       0   \n\n   Bacteria;Patescibacteria;Saccharimonadia  \\\n0                                         2   \n1                                         0   \n2                                         4   \n3                                         0   \n4                                         0   \n\n   Bacteria;Proteobacteria;Alphaproteobacteria  \\\n0                                            0   \n1                                            0   \n2                                            0   \n3                                            2   \n4                                            0   \n\n   Bacteria;Proteobacteria;Gammaproteobacteria  \\\n0                                         4973   \n1                                         6592   \n2                                         1678   \n3                                         1622   \n4                                          361   \n\n   Bacteria;Spirochaetota;Brachyspirae  Bacteria;Spirochaetota;Spirochaetia  \\\n0                                    0                                    0   \n1                                    0                                    0   \n2                                    0                                    0   \n3                                    0                                    0   \n4                                    0                                    0   \n\n   Bacteria;Synergistota;Synergistia  \\\n0                                  0   \n1                                  0   \n2                                  0   \n3                                  0   \n4                                  0   \n\n   Bacteria;Verrucomicrobiota;Lentisphaeria  \\\n0                                         0   \n1                                         0   \n2                                         0   \n3                                         0   \n4                                         0   \n\n   Bacteria;Verrucomicrobiota;Verrucomicrobiae  label  \n0                                            2      1  \n1                                            0      0  \n2                                            0      1  \n3                                            1      1  \n4                                            0      0  \n\n[5 rows x 48 columns]",
      "text/html": "<div>\n<style scoped>\n    .dataframe tbody tr th:only-of-type {\n        vertical-align: middle;\n    }\n\n    .dataframe tbody tr th {\n        vertical-align: top;\n    }\n\n    .dataframe thead th {\n        text-align: right;\n    }\n</style>\n<table border=\"1\" class=\"dataframe\">\n  <thead>\n    <tr style=\"text-align: right;\">\n      <th></th>\n      <th>sample_ID</th>\n      <th>Bacteria;Abditibacteriota;Abditibacteria</th>\n      <th>Bacteria;Acidobacteriota;Aminicenantia</th>\n      <th>Bacteria;Acidobacteriota;Blastocatellia</th>\n      <th>Bacteria;Acidobacteriota;Subgroup 19</th>\n      <th>Bacteria;Acidobacteriota;Vicinamibacteria</th>\n      <th>Bacteria;Actinobacteriota;Acidimicrobiia</th>\n      <th>Bacteria;Actinobacteriota;Actinobacteria</th>\n      <th>Bacteria;Actinobacteriota;Coriobacteriia</th>\n      <th>Bacteria;Actinobacteriota;Thermoleophilia</th>\n      <th>...</th>\n      <th>Bacteria;Patescibacteria;Parcubacteria</th>\n      <th>Bacteria;Patescibacteria;Saccharimonadia</th>\n      <th>Bacteria;Proteobacteria;Alphaproteobacteria</th>\n      <th>Bacteria;Proteobacteria;Gammaproteobacteria</th>\n      <th>Bacteria;Spirochaetota;Brachyspirae</th>\n      <th>Bacteria;Spirochaetota;Spirochaetia</th>\n      <th>Bacteria;Synergistota;Synergistia</th>\n      <th>Bacteria;Verrucomicrobiota;Lentisphaeria</th>\n      <th>Bacteria;Verrucomicrobiota;Verrucomicrobiae</th>\n      <th>label</th>\n    </tr>\n  </thead>\n  <tbody>\n    <tr>\n      <th>0</th>\n      <td>H34099</td>\n      <td>0</td>\n      <td>0</td>\n      <td>0</td>\n      <td>0</td>\n      <td>0</td>\n      <td>0</td>\n      <td>148</td>\n      <td>818</td>\n      <td>0</td>\n      <td>...</td>\n      <td>0</td>\n      <td>2</td>\n      <td>0</td>\n      <td>4973</td>\n      <td>0</td>\n      <td>0</td>\n      <td>0</td>\n      <td>0</td>\n      <td>2</td>\n      <td>1</td>\n    </tr>\n    <tr>\n      <th>1</th>\n      <td>H26094</td>\n      <td>0</td>\n      <td>0</td>\n      <td>0</td>\n      <td>0</td>\n      <td>0</td>\n      <td>0</td>\n      <td>0</td>\n      <td>9</td>\n      <td>0</td>\n      <td>...</td>\n      <td>0</td>\n      <td>0</td>\n      <td>0</td>\n      <td>6592</td>\n      <td>0</td>\n      <td>0</td>\n      <td>0</td>\n      <td>0</td>\n      <td>0</td>\n      <td>0</td>\n    </tr>\n    <tr>\n      <th>2</th>\n      <td>H26935</td>\n      <td>0</td>\n      <td>0</td>\n      <td>0</td>\n      <td>0</td>\n      <td>0</td>\n      <td>0</td>\n      <td>2</td>\n      <td>35</td>\n      <td>0</td>\n      <td>...</td>\n      <td>0</td>\n      <td>4</td>\n      <td>0</td>\n      <td>1678</td>\n      <td>0</td>\n      <td>0</td>\n      <td>0</td>\n      <td>0</td>\n      <td>0</td>\n      <td>1</td>\n    </tr>\n    <tr>\n      <th>3</th>\n      <td>H25822</td>\n      <td>0</td>\n      <td>0</td>\n      <td>0</td>\n      <td>0</td>\n      <td>0</td>\n      <td>0</td>\n      <td>4</td>\n      <td>22</td>\n      <td>0</td>\n      <td>...</td>\n      <td>0</td>\n      <td>0</td>\n      <td>2</td>\n      <td>1622</td>\n      <td>0</td>\n      <td>0</td>\n      <td>0</td>\n      <td>0</td>\n      <td>1</td>\n      <td>1</td>\n    </tr>\n    <tr>\n      <th>4</th>\n      <td>H27104</td>\n      <td>0</td>\n      <td>0</td>\n      <td>0</td>\n      <td>0</td>\n      <td>0</td>\n      <td>0</td>\n      <td>3</td>\n      <td>11</td>\n      <td>0</td>\n      <td>...</td>\n      <td>0</td>\n      <td>0</td>\n      <td>0</td>\n      <td>361</td>\n      <td>0</td>\n      <td>0</td>\n      <td>0</td>\n      <td>0</td>\n      <td>0</td>\n      <td>0</td>\n    </tr>\n  </tbody>\n</table>\n<p>5 rows × 48 columns</p>\n</div>"
     },
     "execution_count": 12,
     "metadata": {},
     "output_type": "execute_result"
    }
   ],
   "source": [
    "dfClassT2D.head()"
   ],
   "metadata": {
    "collapsed": false
   }
  },
  {
   "cell_type": "code",
   "execution_count": 13,
   "outputs": [],
   "source": [
    "all_names = []\n",
    "for name in dfClassCAD.columns:\n",
    "    all_names.append(name)\n",
    "for name in  dfClassCKD.columns:\n",
    "    if name not in all_names:\n",
    "        all_names.append(name)\n",
    "    else:\n",
    "        continue\n",
    "for name in  dfClassIBD.columns:\n",
    "    if name not in all_names:\n",
    "        all_names.append(name)\n",
    "    else:\n",
    "        continue\n",
    "for name in  dfClassT2D.columns:\n",
    "    if name not in all_names:\n",
    "        all_names.append(name)\n",
    "    else:\n",
    "        continue\n"
   ],
   "metadata": {
    "collapsed": false
   }
  },
  {
   "cell_type": "code",
   "execution_count": 14,
   "outputs": [
    {
     "data": {
      "text/plain": "49"
     },
     "execution_count": 14,
     "metadata": {},
     "output_type": "execute_result"
    }
   ],
   "source": [
    "len(all_names) # wir haben 49 verschiedene Klassen"
   ],
   "metadata": {
    "collapsed": false
   }
  },
  {
   "cell_type": "code",
   "execution_count": 15,
   "outputs": [],
   "source": [
    "for name in all_names:\n",
    "    if name not in dfClassCAD.columns:\n",
    "        arr = [0] * dfClassCAD.shape[0] #create array of 0 for new column\n",
    "        dfClassCAD[name] = arr\n",
    "for name in all_names:\n",
    "    if name not in dfClassCKD.columns:\n",
    "        arr = [0] * dfClassCKD.shape[0] #create array of 0 for new column\n",
    "        dfClassCKD[name] = arr\n",
    "for name in all_names:\n",
    "    if name not in dfClassIBD.columns:\n",
    "        arr = [0] * dfClassIBD.shape[0] #create array of 0 for new column\n",
    "        dfClassIBD[name] = arr\n",
    "for name in all_names:\n",
    "    if name not in dfClassT2D.columns:\n",
    "        arr = [0] * dfClassT2D.shape[0] #create array of 0 for new column\n",
    "        dfClassT2D[name] = arr"
   ],
   "metadata": {
    "collapsed": false
   }
  },
  {
   "cell_type": "code",
   "execution_count": 16,
   "outputs": [
    {
     "name": "stdout",
     "output_type": "stream",
     "text": [
      "(1048, 49)\n",
      "(614, 49)\n",
      "(572, 49)\n",
      "(559, 49)\n"
     ]
    }
   ],
   "source": [
    "print(dfClassT2D.shape)\n",
    "print(dfClassIBD.shape)\n",
    "print(dfClassCAD.shape)\n",
    "print(dfClassCKD.shape)\n",
    "\n",
    "# Spalten sind nicht in der gleichen Reihenfolge für jedes DF"
   ],
   "metadata": {
    "collapsed": false
   }
  },
  {
   "cell_type": "code",
   "execution_count": 17,
   "outputs": [],
   "source": [
    "dfClassT2D['label'] = dfClassT2D[\"label\"].replace([1], 1)\n",
    "dfClassCAD['label'] = dfClassCAD[\"label\"].replace([1], 3)\n",
    "dfClassCKD['label'] = dfClassCKD[\"label\"].replace([1], 4)\n",
    "dfClassIBD[\"label\"] = dfClassIBD[\"label\"].replace([1], 2)\n"
   ],
   "metadata": {
    "collapsed": false
   }
  },
  {
   "cell_type": "code",
   "execution_count": 18,
   "outputs": [
    {
     "data": {
      "text/plain": "  sample_ID  Bacteria;Abditibacteriota;Abditibacteria  \\\n0    H34099                                         0   \n1    H26094                                         0   \n2    H26935                                         0   \n3    H25822                                         0   \n4    H27104                                         0   \n\n   Bacteria;Acidobacteriota;Aminicenantia  \\\n0                                       0   \n1                                       0   \n2                                       0   \n3                                       0   \n4                                       0   \n\n   Bacteria;Acidobacteriota;Blastocatellia  \\\n0                                        0   \n1                                        0   \n2                                        0   \n3                                        0   \n4                                        0   \n\n   Bacteria;Acidobacteriota;Subgroup 19  \\\n0                                     0   \n1                                     0   \n2                                     0   \n3                                     0   \n4                                     0   \n\n   Bacteria;Acidobacteriota;Vicinamibacteria  \\\n0                                          0   \n1                                          0   \n2                                          0   \n3                                          0   \n4                                          0   \n\n   Bacteria;Actinobacteriota;Acidimicrobiia  \\\n0                                         0   \n1                                         0   \n2                                         0   \n3                                         0   \n4                                         0   \n\n   Bacteria;Actinobacteriota;Actinobacteria  \\\n0                                       148   \n1                                         0   \n2                                         2   \n3                                         4   \n4                                         3   \n\n   Bacteria;Actinobacteriota;Coriobacteriia  \\\n0                                       818   \n1                                         9   \n2                                        35   \n3                                        22   \n4                                        11   \n\n   Bacteria;Actinobacteriota;Thermoleophilia  ...  \\\n0                                          0  ...   \n1                                          0  ...   \n2                                          0  ...   \n3                                          0  ...   \n4                                          0  ...   \n\n   Bacteria;Patescibacteria;Saccharimonadia  \\\n0                                         2   \n1                                         0   \n2                                         4   \n3                                         0   \n4                                         0   \n\n   Bacteria;Proteobacteria;Alphaproteobacteria  \\\n0                                            0   \n1                                            0   \n2                                            0   \n3                                            2   \n4                                            0   \n\n   Bacteria;Proteobacteria;Gammaproteobacteria  \\\n0                                         4973   \n1                                         6592   \n2                                         1678   \n3                                         1622   \n4                                          361   \n\n   Bacteria;Spirochaetota;Brachyspirae  Bacteria;Spirochaetota;Spirochaetia  \\\n0                                    0                                    0   \n1                                    0                                    0   \n2                                    0                                    0   \n3                                    0                                    0   \n4                                    0                                    0   \n\n   Bacteria;Synergistota;Synergistia  \\\n0                                  0   \n1                                  0   \n2                                  0   \n3                                  0   \n4                                  0   \n\n   Bacteria;Verrucomicrobiota;Lentisphaeria  \\\n0                                         0   \n1                                         0   \n2                                         0   \n3                                         0   \n4                                         0   \n\n   Bacteria;Verrucomicrobiota;Verrucomicrobiae  label  \\\n0                                            2      1   \n1                                            0      0   \n2                                            0      1   \n3                                            1      1   \n4                                            0      0   \n\n   Bacteria;Acidobacteriota;Subgroup 5  \n0                                    0  \n1                                    0  \n2                                    0  \n3                                    0  \n4                                    0  \n\n[5 rows x 49 columns]",
      "text/html": "<div>\n<style scoped>\n    .dataframe tbody tr th:only-of-type {\n        vertical-align: middle;\n    }\n\n    .dataframe tbody tr th {\n        vertical-align: top;\n    }\n\n    .dataframe thead th {\n        text-align: right;\n    }\n</style>\n<table border=\"1\" class=\"dataframe\">\n  <thead>\n    <tr style=\"text-align: right;\">\n      <th></th>\n      <th>sample_ID</th>\n      <th>Bacteria;Abditibacteriota;Abditibacteria</th>\n      <th>Bacteria;Acidobacteriota;Aminicenantia</th>\n      <th>Bacteria;Acidobacteriota;Blastocatellia</th>\n      <th>Bacteria;Acidobacteriota;Subgroup 19</th>\n      <th>Bacteria;Acidobacteriota;Vicinamibacteria</th>\n      <th>Bacteria;Actinobacteriota;Acidimicrobiia</th>\n      <th>Bacteria;Actinobacteriota;Actinobacteria</th>\n      <th>Bacteria;Actinobacteriota;Coriobacteriia</th>\n      <th>Bacteria;Actinobacteriota;Thermoleophilia</th>\n      <th>...</th>\n      <th>Bacteria;Patescibacteria;Saccharimonadia</th>\n      <th>Bacteria;Proteobacteria;Alphaproteobacteria</th>\n      <th>Bacteria;Proteobacteria;Gammaproteobacteria</th>\n      <th>Bacteria;Spirochaetota;Brachyspirae</th>\n      <th>Bacteria;Spirochaetota;Spirochaetia</th>\n      <th>Bacteria;Synergistota;Synergistia</th>\n      <th>Bacteria;Verrucomicrobiota;Lentisphaeria</th>\n      <th>Bacteria;Verrucomicrobiota;Verrucomicrobiae</th>\n      <th>label</th>\n      <th>Bacteria;Acidobacteriota;Subgroup 5</th>\n    </tr>\n  </thead>\n  <tbody>\n    <tr>\n      <th>0</th>\n      <td>H34099</td>\n      <td>0</td>\n      <td>0</td>\n      <td>0</td>\n      <td>0</td>\n      <td>0</td>\n      <td>0</td>\n      <td>148</td>\n      <td>818</td>\n      <td>0</td>\n      <td>...</td>\n      <td>2</td>\n      <td>0</td>\n      <td>4973</td>\n      <td>0</td>\n      <td>0</td>\n      <td>0</td>\n      <td>0</td>\n      <td>2</td>\n      <td>1</td>\n      <td>0</td>\n    </tr>\n    <tr>\n      <th>1</th>\n      <td>H26094</td>\n      <td>0</td>\n      <td>0</td>\n      <td>0</td>\n      <td>0</td>\n      <td>0</td>\n      <td>0</td>\n      <td>0</td>\n      <td>9</td>\n      <td>0</td>\n      <td>...</td>\n      <td>0</td>\n      <td>0</td>\n      <td>6592</td>\n      <td>0</td>\n      <td>0</td>\n      <td>0</td>\n      <td>0</td>\n      <td>0</td>\n      <td>0</td>\n      <td>0</td>\n    </tr>\n    <tr>\n      <th>2</th>\n      <td>H26935</td>\n      <td>0</td>\n      <td>0</td>\n      <td>0</td>\n      <td>0</td>\n      <td>0</td>\n      <td>0</td>\n      <td>2</td>\n      <td>35</td>\n      <td>0</td>\n      <td>...</td>\n      <td>4</td>\n      <td>0</td>\n      <td>1678</td>\n      <td>0</td>\n      <td>0</td>\n      <td>0</td>\n      <td>0</td>\n      <td>0</td>\n      <td>1</td>\n      <td>0</td>\n    </tr>\n    <tr>\n      <th>3</th>\n      <td>H25822</td>\n      <td>0</td>\n      <td>0</td>\n      <td>0</td>\n      <td>0</td>\n      <td>0</td>\n      <td>0</td>\n      <td>4</td>\n      <td>22</td>\n      <td>0</td>\n      <td>...</td>\n      <td>0</td>\n      <td>2</td>\n      <td>1622</td>\n      <td>0</td>\n      <td>0</td>\n      <td>0</td>\n      <td>0</td>\n      <td>1</td>\n      <td>1</td>\n      <td>0</td>\n    </tr>\n    <tr>\n      <th>4</th>\n      <td>H27104</td>\n      <td>0</td>\n      <td>0</td>\n      <td>0</td>\n      <td>0</td>\n      <td>0</td>\n      <td>0</td>\n      <td>3</td>\n      <td>11</td>\n      <td>0</td>\n      <td>...</td>\n      <td>0</td>\n      <td>0</td>\n      <td>361</td>\n      <td>0</td>\n      <td>0</td>\n      <td>0</td>\n      <td>0</td>\n      <td>0</td>\n      <td>0</td>\n      <td>0</td>\n    </tr>\n  </tbody>\n</table>\n<p>5 rows × 49 columns</p>\n</div>"
     },
     "execution_count": 18,
     "metadata": {},
     "output_type": "execute_result"
    }
   ],
   "source": [
    "dfClassT2D.head()"
   ],
   "metadata": {
    "collapsed": false
   }
  },
  {
   "cell_type": "code",
   "execution_count": 19,
   "outputs": [
    {
     "name": "stdout",
     "output_type": "stream",
     "text": [
      "sample_ID                                      object\n",
      "Bacteria;Abditibacteriota;Abditibacteria        int64\n",
      "Bacteria;Acidobacteriota;Aminicenantia          int64\n",
      "Bacteria;Acidobacteriota;Blastocatellia         int64\n",
      "Bacteria;Acidobacteriota;Subgroup 19            int64\n",
      "Bacteria;Acidobacteriota;Vicinamibacteria       int64\n",
      "Bacteria;Actinobacteriota;Acidimicrobiia        int64\n",
      "Bacteria;Actinobacteriota;Actinobacteria        int64\n",
      "Bacteria;Actinobacteriota;Coriobacteriia        int64\n",
      "Bacteria;Actinobacteriota;Thermoleophilia       int64\n",
      "Bacteria;Bacteroidota;Bacteroidia               int64\n",
      "Bacteria;Bdellovibrionota;Bdellovibrionia       int64\n",
      "Bacteria;Bdellovibrionota;Oligoflexia           int64\n",
      "Bacteria;Campilobacterota;Campylobacteria       int64\n",
      "Bacteria;Chloroflexi;Anaerolineae               int64\n",
      "Bacteria;Chloroflexi;Chloroflexia               int64\n",
      "Bacteria;Cyanobacteria;Cyanobacteriia           int64\n",
      "Bacteria;Cyanobacteria;Vampirivibrionia         int64\n",
      "Bacteria;Dependentiae;Babeliae                  int64\n",
      "Bacteria;Desulfobacterota;Desulfovibrionia      int64\n",
      "Bacteria;Desulfobacterota;Desulfuromonadia      int64\n",
      "Bacteria;Desulfobacterota;Syntrophia            int64\n",
      "Bacteria;Elusimicrobiota;Elusimicrobia          int64\n",
      "Bacteria;Elusimicrobiota;Lineage IIa            int64\n",
      "Bacteria;Fibrobacterota;Fibrobacteria           int64\n",
      "Bacteria;Firmicutes;Bacilli                     int64\n",
      "Bacteria;Firmicutes;Clostridia                  int64\n",
      "Bacteria;Firmicutes;Incertae Sedis              int64\n",
      "Bacteria;Firmicutes;Limnochordia                int64\n",
      "Bacteria;Firmicutes;Moorellia                   int64\n",
      "Bacteria;Firmicutes;Negativicutes               int64\n",
      "Bacteria;Firmicutes;Syntrophomonadia            int64\n",
      "Bacteria;Firmicutes;uncultured                  int64\n",
      "Bacteria;Fusobacteriota;Fusobacteriia           int64\n",
      "Bacteria;Myxococcota;Polyangia                  int64\n",
      "Bacteria;Myxococcota;bacteriap25                int64\n",
      "Bacteria;Nitrospirota;Nitrospiria               int64\n",
      "Bacteria;Patescibacteria;Gracilibacteria        int64\n",
      "Bacteria;Patescibacteria;Parcubacteria          int64\n",
      "Bacteria;Patescibacteria;Saccharimonadia        int64\n",
      "Bacteria;Proteobacteria;Alphaproteobacteria     int64\n",
      "Bacteria;Proteobacteria;Gammaproteobacteria     int64\n",
      "Bacteria;Spirochaetota;Brachyspirae             int64\n",
      "Bacteria;Spirochaetota;Spirochaetia             int64\n",
      "Bacteria;Synergistota;Synergistia               int64\n",
      "Bacteria;Verrucomicrobiota;Lentisphaeria        int64\n",
      "Bacteria;Verrucomicrobiota;Verrucomicrobiae     int64\n",
      "label                                           int64\n",
      "Bacteria;Acidobacteriota;Subgroup 5             int64\n",
      "dtype: object\n"
     ]
    }
   ],
   "source": [
    "print(dfClassT2D.dtypes)"
   ],
   "metadata": {
    "collapsed": false
   }
  },
  {
   "cell_type": "code",
   "execution_count": 20,
   "outputs": [],
   "source": [
    "\n",
    "frames = [dfClassCAD, dfClassCKD, dfClassIBD,dfClassT2D]\n",
    "\n",
    "result = pd.concat(frames, sort=True)"
   ],
   "metadata": {
    "collapsed": false
   }
  },
  {
   "cell_type": "code",
   "execution_count": 21,
   "outputs": [
    {
     "data": {
      "text/plain": "(2793, 49)"
     },
     "execution_count": 21,
     "metadata": {},
     "output_type": "execute_result"
    }
   ],
   "source": [
    "result.shape"
   ],
   "metadata": {
    "collapsed": false
   }
  },
  {
   "cell_type": "code",
   "execution_count": 22,
   "outputs": [
    {
     "data": {
      "text/plain": "   Bacteria;Abditibacteriota;Abditibacteria  \\\n0                                         0   \n1                                         0   \n2                                         0   \n3                                         0   \n4                                         0   \n\n   Bacteria;Acidobacteriota;Aminicenantia  \\\n0                                       0   \n1                                       0   \n2                                       0   \n3                                       0   \n4                                       0   \n\n   Bacteria;Acidobacteriota;Blastocatellia  \\\n0                                        0   \n1                                        0   \n2                                        0   \n3                                        0   \n4                                        0   \n\n   Bacteria;Acidobacteriota;Subgroup 19  Bacteria;Acidobacteriota;Subgroup 5  \\\n0                                     0                                    0   \n1                                     0                                    0   \n2                                     0                                    0   \n3                                     0                                    0   \n4                                     0                                    0   \n\n   Bacteria;Acidobacteriota;Vicinamibacteria  \\\n0                                          0   \n1                                          0   \n2                                          0   \n3                                          0   \n4                                          0   \n\n   Bacteria;Actinobacteriota;Acidimicrobiia  \\\n0                                         0   \n1                                         0   \n2                                         0   \n3                                         0   \n4                                         0   \n\n   Bacteria;Actinobacteriota;Actinobacteria  \\\n0                                         1   \n1                                        17   \n2                                         2   \n3                                         5   \n4                                         0   \n\n   Bacteria;Actinobacteriota;Coriobacteriia  \\\n0                                        11   \n1                                       342   \n2                                        33   \n3                                         3   \n4                                       108   \n\n   Bacteria;Actinobacteriota;Thermoleophilia  ...  \\\n0                                          0  ...   \n1                                          0  ...   \n2                                          0  ...   \n3                                          0  ...   \n4                                          0  ...   \n\n   Bacteria;Patescibacteria;Saccharimonadia  \\\n0                                         0   \n1                                         0   \n2                                         0   \n3                                         0   \n4                                         0   \n\n   Bacteria;Proteobacteria;Alphaproteobacteria  \\\n0                                            1   \n1                                            0   \n2                                            0   \n3                                            0   \n4                                           38   \n\n   Bacteria;Proteobacteria;Gammaproteobacteria  \\\n0                                          367   \n1                                         1016   \n2                                          120   \n3                                         1721   \n4                                          686   \n\n   Bacteria;Spirochaetota;Brachyspirae  Bacteria;Spirochaetota;Spirochaetia  \\\n0                                    0                                    0   \n1                                    0                                    0   \n2                                    0                                    0   \n3                                    0                                    0   \n4                                    0                                    0   \n\n   Bacteria;Synergistota;Synergistia  \\\n0                                  0   \n1                                  0   \n2                                  0   \n3                                  0   \n4                                  0   \n\n   Bacteria;Verrucomicrobiota;Lentisphaeria  \\\n0                                         0   \n1                                         0   \n2                                         0   \n3                                         0   \n4                                         0   \n\n   Bacteria;Verrucomicrobiota;Verrucomicrobiae  label  sample_ID  \n0                                            1      0     H26709  \n1                                            0      3     H26781  \n2                                            1      0     H26800  \n3                                            0      0     H26721  \n4                                            1      0     H27098  \n\n[5 rows x 49 columns]",
      "text/html": "<div>\n<style scoped>\n    .dataframe tbody tr th:only-of-type {\n        vertical-align: middle;\n    }\n\n    .dataframe tbody tr th {\n        vertical-align: top;\n    }\n\n    .dataframe thead th {\n        text-align: right;\n    }\n</style>\n<table border=\"1\" class=\"dataframe\">\n  <thead>\n    <tr style=\"text-align: right;\">\n      <th></th>\n      <th>Bacteria;Abditibacteriota;Abditibacteria</th>\n      <th>Bacteria;Acidobacteriota;Aminicenantia</th>\n      <th>Bacteria;Acidobacteriota;Blastocatellia</th>\n      <th>Bacteria;Acidobacteriota;Subgroup 19</th>\n      <th>Bacteria;Acidobacteriota;Subgroup 5</th>\n      <th>Bacteria;Acidobacteriota;Vicinamibacteria</th>\n      <th>Bacteria;Actinobacteriota;Acidimicrobiia</th>\n      <th>Bacteria;Actinobacteriota;Actinobacteria</th>\n      <th>Bacteria;Actinobacteriota;Coriobacteriia</th>\n      <th>Bacteria;Actinobacteriota;Thermoleophilia</th>\n      <th>...</th>\n      <th>Bacteria;Patescibacteria;Saccharimonadia</th>\n      <th>Bacteria;Proteobacteria;Alphaproteobacteria</th>\n      <th>Bacteria;Proteobacteria;Gammaproteobacteria</th>\n      <th>Bacteria;Spirochaetota;Brachyspirae</th>\n      <th>Bacteria;Spirochaetota;Spirochaetia</th>\n      <th>Bacteria;Synergistota;Synergistia</th>\n      <th>Bacteria;Verrucomicrobiota;Lentisphaeria</th>\n      <th>Bacteria;Verrucomicrobiota;Verrucomicrobiae</th>\n      <th>label</th>\n      <th>sample_ID</th>\n    </tr>\n  </thead>\n  <tbody>\n    <tr>\n      <th>0</th>\n      <td>0</td>\n      <td>0</td>\n      <td>0</td>\n      <td>0</td>\n      <td>0</td>\n      <td>0</td>\n      <td>0</td>\n      <td>1</td>\n      <td>11</td>\n      <td>0</td>\n      <td>...</td>\n      <td>0</td>\n      <td>1</td>\n      <td>367</td>\n      <td>0</td>\n      <td>0</td>\n      <td>0</td>\n      <td>0</td>\n      <td>1</td>\n      <td>0</td>\n      <td>H26709</td>\n    </tr>\n    <tr>\n      <th>1</th>\n      <td>0</td>\n      <td>0</td>\n      <td>0</td>\n      <td>0</td>\n      <td>0</td>\n      <td>0</td>\n      <td>0</td>\n      <td>17</td>\n      <td>342</td>\n      <td>0</td>\n      <td>...</td>\n      <td>0</td>\n      <td>0</td>\n      <td>1016</td>\n      <td>0</td>\n      <td>0</td>\n      <td>0</td>\n      <td>0</td>\n      <td>0</td>\n      <td>3</td>\n      <td>H26781</td>\n    </tr>\n    <tr>\n      <th>2</th>\n      <td>0</td>\n      <td>0</td>\n      <td>0</td>\n      <td>0</td>\n      <td>0</td>\n      <td>0</td>\n      <td>0</td>\n      <td>2</td>\n      <td>33</td>\n      <td>0</td>\n      <td>...</td>\n      <td>0</td>\n      <td>0</td>\n      <td>120</td>\n      <td>0</td>\n      <td>0</td>\n      <td>0</td>\n      <td>0</td>\n      <td>1</td>\n      <td>0</td>\n      <td>H26800</td>\n    </tr>\n    <tr>\n      <th>3</th>\n      <td>0</td>\n      <td>0</td>\n      <td>0</td>\n      <td>0</td>\n      <td>0</td>\n      <td>0</td>\n      <td>0</td>\n      <td>5</td>\n      <td>3</td>\n      <td>0</td>\n      <td>...</td>\n      <td>0</td>\n      <td>0</td>\n      <td>1721</td>\n      <td>0</td>\n      <td>0</td>\n      <td>0</td>\n      <td>0</td>\n      <td>0</td>\n      <td>0</td>\n      <td>H26721</td>\n    </tr>\n    <tr>\n      <th>4</th>\n      <td>0</td>\n      <td>0</td>\n      <td>0</td>\n      <td>0</td>\n      <td>0</td>\n      <td>0</td>\n      <td>0</td>\n      <td>0</td>\n      <td>108</td>\n      <td>0</td>\n      <td>...</td>\n      <td>0</td>\n      <td>38</td>\n      <td>686</td>\n      <td>0</td>\n      <td>0</td>\n      <td>0</td>\n      <td>0</td>\n      <td>1</td>\n      <td>0</td>\n      <td>H27098</td>\n    </tr>\n  </tbody>\n</table>\n<p>5 rows × 49 columns</p>\n</div>"
     },
     "execution_count": 22,
     "metadata": {},
     "output_type": "execute_result"
    }
   ],
   "source": [
    "result.head()"
   ],
   "metadata": {
    "collapsed": false
   }
  },
  {
   "cell_type": "code",
   "execution_count": 23,
   "outputs": [],
   "source": [
    "#remove last column = sample_id\n",
    "df_original = result\n",
    "df = df_original.copy()\n",
    "df = df.drop([\"sample_ID\"], axis=1)\n",
    "df[\"label\"].replace([0], \"0\")\n",
    "df[\"label\"] = pd.to_numeric(df[\"label\"])"
   ],
   "metadata": {
    "collapsed": false
   }
  },
  {
   "cell_type": "code",
   "execution_count": 24,
   "outputs": [
    {
     "data": {
      "text/plain": "   Bacteria;Abditibacteriota;Abditibacteria  \\\n0                                         0   \n1                                         0   \n2                                         0   \n3                                         0   \n4                                         0   \n\n   Bacteria;Acidobacteriota;Aminicenantia  \\\n0                                       0   \n1                                       0   \n2                                       0   \n3                                       0   \n4                                       0   \n\n   Bacteria;Acidobacteriota;Blastocatellia  \\\n0                                        0   \n1                                        0   \n2                                        0   \n3                                        0   \n4                                        0   \n\n   Bacteria;Acidobacteriota;Subgroup 19  Bacteria;Acidobacteriota;Subgroup 5  \\\n0                                     0                                    0   \n1                                     0                                    0   \n2                                     0                                    0   \n3                                     0                                    0   \n4                                     0                                    0   \n\n   Bacteria;Acidobacteriota;Vicinamibacteria  \\\n0                                          0   \n1                                          0   \n2                                          0   \n3                                          0   \n4                                          0   \n\n   Bacteria;Actinobacteriota;Acidimicrobiia  \\\n0                                         0   \n1                                         0   \n2                                         0   \n3                                         0   \n4                                         0   \n\n   Bacteria;Actinobacteriota;Actinobacteria  \\\n0                                         1   \n1                                        17   \n2                                         2   \n3                                         5   \n4                                         0   \n\n   Bacteria;Actinobacteriota;Coriobacteriia  \\\n0                                        11   \n1                                       342   \n2                                        33   \n3                                         3   \n4                                       108   \n\n   Bacteria;Actinobacteriota;Thermoleophilia  ...  \\\n0                                          0  ...   \n1                                          0  ...   \n2                                          0  ...   \n3                                          0  ...   \n4                                          0  ...   \n\n   Bacteria;Patescibacteria;Parcubacteria  \\\n0                                       0   \n1                                       0   \n2                                       0   \n3                                       0   \n4                                       0   \n\n   Bacteria;Patescibacteria;Saccharimonadia  \\\n0                                         0   \n1                                         0   \n2                                         0   \n3                                         0   \n4                                         0   \n\n   Bacteria;Proteobacteria;Alphaproteobacteria  \\\n0                                            1   \n1                                            0   \n2                                            0   \n3                                            0   \n4                                           38   \n\n   Bacteria;Proteobacteria;Gammaproteobacteria  \\\n0                                          367   \n1                                         1016   \n2                                          120   \n3                                         1721   \n4                                          686   \n\n   Bacteria;Spirochaetota;Brachyspirae  Bacteria;Spirochaetota;Spirochaetia  \\\n0                                    0                                    0   \n1                                    0                                    0   \n2                                    0                                    0   \n3                                    0                                    0   \n4                                    0                                    0   \n\n   Bacteria;Synergistota;Synergistia  \\\n0                                  0   \n1                                  0   \n2                                  0   \n3                                  0   \n4                                  0   \n\n   Bacteria;Verrucomicrobiota;Lentisphaeria  \\\n0                                         0   \n1                                         0   \n2                                         0   \n3                                         0   \n4                                         0   \n\n   Bacteria;Verrucomicrobiota;Verrucomicrobiae  label  \n0                                            1      0  \n1                                            0      3  \n2                                            1      0  \n3                                            0      0  \n4                                            1      0  \n\n[5 rows x 48 columns]",
      "text/html": "<div>\n<style scoped>\n    .dataframe tbody tr th:only-of-type {\n        vertical-align: middle;\n    }\n\n    .dataframe tbody tr th {\n        vertical-align: top;\n    }\n\n    .dataframe thead th {\n        text-align: right;\n    }\n</style>\n<table border=\"1\" class=\"dataframe\">\n  <thead>\n    <tr style=\"text-align: right;\">\n      <th></th>\n      <th>Bacteria;Abditibacteriota;Abditibacteria</th>\n      <th>Bacteria;Acidobacteriota;Aminicenantia</th>\n      <th>Bacteria;Acidobacteriota;Blastocatellia</th>\n      <th>Bacteria;Acidobacteriota;Subgroup 19</th>\n      <th>Bacteria;Acidobacteriota;Subgroup 5</th>\n      <th>Bacteria;Acidobacteriota;Vicinamibacteria</th>\n      <th>Bacteria;Actinobacteriota;Acidimicrobiia</th>\n      <th>Bacteria;Actinobacteriota;Actinobacteria</th>\n      <th>Bacteria;Actinobacteriota;Coriobacteriia</th>\n      <th>Bacteria;Actinobacteriota;Thermoleophilia</th>\n      <th>...</th>\n      <th>Bacteria;Patescibacteria;Parcubacteria</th>\n      <th>Bacteria;Patescibacteria;Saccharimonadia</th>\n      <th>Bacteria;Proteobacteria;Alphaproteobacteria</th>\n      <th>Bacteria;Proteobacteria;Gammaproteobacteria</th>\n      <th>Bacteria;Spirochaetota;Brachyspirae</th>\n      <th>Bacteria;Spirochaetota;Spirochaetia</th>\n      <th>Bacteria;Synergistota;Synergistia</th>\n      <th>Bacteria;Verrucomicrobiota;Lentisphaeria</th>\n      <th>Bacteria;Verrucomicrobiota;Verrucomicrobiae</th>\n      <th>label</th>\n    </tr>\n  </thead>\n  <tbody>\n    <tr>\n      <th>0</th>\n      <td>0</td>\n      <td>0</td>\n      <td>0</td>\n      <td>0</td>\n      <td>0</td>\n      <td>0</td>\n      <td>0</td>\n      <td>1</td>\n      <td>11</td>\n      <td>0</td>\n      <td>...</td>\n      <td>0</td>\n      <td>0</td>\n      <td>1</td>\n      <td>367</td>\n      <td>0</td>\n      <td>0</td>\n      <td>0</td>\n      <td>0</td>\n      <td>1</td>\n      <td>0</td>\n    </tr>\n    <tr>\n      <th>1</th>\n      <td>0</td>\n      <td>0</td>\n      <td>0</td>\n      <td>0</td>\n      <td>0</td>\n      <td>0</td>\n      <td>0</td>\n      <td>17</td>\n      <td>342</td>\n      <td>0</td>\n      <td>...</td>\n      <td>0</td>\n      <td>0</td>\n      <td>0</td>\n      <td>1016</td>\n      <td>0</td>\n      <td>0</td>\n      <td>0</td>\n      <td>0</td>\n      <td>0</td>\n      <td>3</td>\n    </tr>\n    <tr>\n      <th>2</th>\n      <td>0</td>\n      <td>0</td>\n      <td>0</td>\n      <td>0</td>\n      <td>0</td>\n      <td>0</td>\n      <td>0</td>\n      <td>2</td>\n      <td>33</td>\n      <td>0</td>\n      <td>...</td>\n      <td>0</td>\n      <td>0</td>\n      <td>0</td>\n      <td>120</td>\n      <td>0</td>\n      <td>0</td>\n      <td>0</td>\n      <td>0</td>\n      <td>1</td>\n      <td>0</td>\n    </tr>\n    <tr>\n      <th>3</th>\n      <td>0</td>\n      <td>0</td>\n      <td>0</td>\n      <td>0</td>\n      <td>0</td>\n      <td>0</td>\n      <td>0</td>\n      <td>5</td>\n      <td>3</td>\n      <td>0</td>\n      <td>...</td>\n      <td>0</td>\n      <td>0</td>\n      <td>0</td>\n      <td>1721</td>\n      <td>0</td>\n      <td>0</td>\n      <td>0</td>\n      <td>0</td>\n      <td>0</td>\n      <td>0</td>\n    </tr>\n    <tr>\n      <th>4</th>\n      <td>0</td>\n      <td>0</td>\n      <td>0</td>\n      <td>0</td>\n      <td>0</td>\n      <td>0</td>\n      <td>0</td>\n      <td>0</td>\n      <td>108</td>\n      <td>0</td>\n      <td>...</td>\n      <td>0</td>\n      <td>0</td>\n      <td>38</td>\n      <td>686</td>\n      <td>0</td>\n      <td>0</td>\n      <td>0</td>\n      <td>0</td>\n      <td>1</td>\n      <td>0</td>\n    </tr>\n  </tbody>\n</table>\n<p>5 rows × 48 columns</p>\n</div>"
     },
     "execution_count": 24,
     "metadata": {},
     "output_type": "execute_result"
    }
   ],
   "source": [
    "df.head()"
   ],
   "metadata": {
    "collapsed": false
   }
  },
  {
   "cell_type": "code",
   "execution_count": 25,
   "outputs": [
    {
     "data": {
      "text/plain": "(2793, 48)"
     },
     "execution_count": 25,
     "metadata": {},
     "output_type": "execute_result"
    }
   ],
   "source": [
    "df.shape"
   ],
   "metadata": {
    "collapsed": false
   }
  },
  {
   "cell_type": "code",
   "execution_count": 27,
   "outputs": [],
   "source": [
    "import tensorflow as tf\n",
    "from tensorflow.keras import layers"
   ],
   "metadata": {
    "collapsed": false
   }
  },
  {
   "cell_type": "code",
   "execution_count": 28,
   "outputs": [
    {
     "data": {
      "text/plain": "'2.10.0'"
     },
     "execution_count": 28,
     "metadata": {},
     "output_type": "execute_result"
    }
   ],
   "source": [
    "tf.__version__"
   ],
   "metadata": {
    "collapsed": false
   }
  },
  {
   "cell_type": "code",
   "execution_count": 29,
   "outputs": [],
   "source": [
    "train, val, test = np.split(df.sample(frac=1), [int(0.8*len(df)), int(0.9*len(df))])\n"
   ],
   "metadata": {
    "collapsed": false
   }
  },
  {
   "cell_type": "code",
   "execution_count": 30,
   "outputs": [
    {
     "name": "stdout",
     "output_type": "stream",
     "text": [
      "2234 training examples\n",
      "279 validation examples\n",
      "280 test examples\n"
     ]
    }
   ],
   "source": [
    "print(len(train), 'training examples')\n",
    "print(len(val), 'validation examples')\n",
    "print(len(test), 'test examples')"
   ],
   "metadata": {
    "collapsed": false
   }
  },
  {
   "cell_type": "code",
   "execution_count": 31,
   "outputs": [
    {
     "data": {
      "text/plain": "(2234, 48)"
     },
     "execution_count": 31,
     "metadata": {},
     "output_type": "execute_result"
    }
   ],
   "source": [
    "train.shape"
   ],
   "metadata": {
    "collapsed": false
   }
  },
  {
   "cell_type": "code",
   "execution_count": 32,
   "outputs": [
    {
     "name": "stdout",
     "output_type": "stream",
     "text": [
      "Bacteria;Abditibacteriota;Abditibacteria       int64\n",
      "Bacteria;Acidobacteriota;Aminicenantia         int64\n",
      "Bacteria;Acidobacteriota;Blastocatellia        int64\n",
      "Bacteria;Acidobacteriota;Subgroup 19           int64\n",
      "Bacteria;Acidobacteriota;Subgroup 5            int64\n",
      "Bacteria;Acidobacteriota;Vicinamibacteria      int64\n",
      "Bacteria;Actinobacteriota;Acidimicrobiia       int64\n",
      "Bacteria;Actinobacteriota;Actinobacteria       int64\n",
      "Bacteria;Actinobacteriota;Coriobacteriia       int64\n",
      "Bacteria;Actinobacteriota;Thermoleophilia      int64\n",
      "Bacteria;Bacteroidota;Bacteroidia              int64\n",
      "Bacteria;Bdellovibrionota;Bdellovibrionia      int64\n",
      "Bacteria;Bdellovibrionota;Oligoflexia          int64\n",
      "Bacteria;Campilobacterota;Campylobacteria      int64\n",
      "Bacteria;Chloroflexi;Anaerolineae              int64\n",
      "Bacteria;Chloroflexi;Chloroflexia              int64\n",
      "Bacteria;Cyanobacteria;Cyanobacteriia          int64\n",
      "Bacteria;Cyanobacteria;Vampirivibrionia        int64\n",
      "Bacteria;Dependentiae;Babeliae                 int64\n",
      "Bacteria;Desulfobacterota;Desulfovibrionia     int64\n",
      "Bacteria;Desulfobacterota;Desulfuromonadia     int64\n",
      "Bacteria;Desulfobacterota;Syntrophia           int64\n",
      "Bacteria;Elusimicrobiota;Elusimicrobia         int64\n",
      "Bacteria;Elusimicrobiota;Lineage IIa           int64\n",
      "Bacteria;Fibrobacterota;Fibrobacteria          int64\n",
      "Bacteria;Firmicutes;Bacilli                    int64\n",
      "Bacteria;Firmicutes;Clostridia                 int64\n",
      "Bacteria;Firmicutes;Incertae Sedis             int64\n",
      "Bacteria;Firmicutes;Limnochordia               int64\n",
      "Bacteria;Firmicutes;Moorellia                  int64\n",
      "Bacteria;Firmicutes;Negativicutes              int64\n",
      "Bacteria;Firmicutes;Syntrophomonadia           int64\n",
      "Bacteria;Firmicutes;uncultured                 int64\n",
      "Bacteria;Fusobacteriota;Fusobacteriia          int64\n",
      "Bacteria;Myxococcota;Polyangia                 int64\n",
      "Bacteria;Myxococcota;bacteriap25               int64\n",
      "Bacteria;Nitrospirota;Nitrospiria              int64\n",
      "Bacteria;Patescibacteria;Gracilibacteria       int64\n",
      "Bacteria;Patescibacteria;Parcubacteria         int64\n",
      "Bacteria;Patescibacteria;Saccharimonadia       int64\n",
      "Bacteria;Proteobacteria;Alphaproteobacteria    int64\n",
      "Bacteria;Proteobacteria;Gammaproteobacteria    int64\n",
      "Bacteria;Spirochaetota;Brachyspirae            int64\n",
      "Bacteria;Spirochaetota;Spirochaetia            int64\n",
      "Bacteria;Synergistota;Synergistia              int64\n",
      "Bacteria;Verrucomicrobiota;Lentisphaeria       int64\n",
      "Bacteria;Verrucomicrobiota;Verrucomicrobiae    int64\n",
      "label                                          int64\n",
      "dtype: object\n"
     ]
    }
   ],
   "source": [
    "print(train.dtypes)\n",
    "# Everything needs to be int64 to turn it into tensor"
   ],
   "metadata": {
    "collapsed": false
   }
  },
  {
   "cell_type": "markdown",
   "source": [],
   "metadata": {
    "collapsed": false
   }
  },
  {
   "cell_type": "code",
   "execution_count": 33,
   "outputs": [],
   "source": [
    "def dataframe_to_dataset(dataframe):\n",
    "    dataframe = dataframe.copy()\n",
    "    labels = dataframe.pop(\"label\")\n",
    "    ds = tf.data.Dataset.from_tensor_slices((dict(dataframe), labels))\n",
    "    ds = ds.shuffle(buffer_size=len(dataframe))\n",
    "    return ds\n",
    "\n",
    "\n"
   ],
   "metadata": {
    "collapsed": false
   }
  },
  {
   "cell_type": "code",
   "execution_count": 34,
   "outputs": [],
   "source": [
    "train_ds = dataframe_to_dataset(train)\n",
    "val_ds = dataframe_to_dataset(val)\n",
    "test_ds = dataframe_to_dataset(test)"
   ],
   "metadata": {
    "collapsed": false
   }
  },
  {
   "cell_type": "code",
   "execution_count": 35,
   "outputs": [
    {
     "name": "stdout",
     "output_type": "stream",
     "text": [
      "Input: {'Bacteria;Abditibacteriota;Abditibacteria': <tf.Tensor: shape=(), dtype=int64, numpy=0>, 'Bacteria;Acidobacteriota;Aminicenantia': <tf.Tensor: shape=(), dtype=int64, numpy=0>, 'Bacteria;Acidobacteriota;Blastocatellia': <tf.Tensor: shape=(), dtype=int64, numpy=0>, 'Bacteria;Acidobacteriota;Subgroup 19': <tf.Tensor: shape=(), dtype=int64, numpy=0>, 'Bacteria;Acidobacteriota;Subgroup 5': <tf.Tensor: shape=(), dtype=int64, numpy=0>, 'Bacteria;Acidobacteriota;Vicinamibacteria': <tf.Tensor: shape=(), dtype=int64, numpy=0>, 'Bacteria;Actinobacteriota;Acidimicrobiia': <tf.Tensor: shape=(), dtype=int64, numpy=0>, 'Bacteria;Actinobacteriota;Actinobacteria': <tf.Tensor: shape=(), dtype=int64, numpy=1>, 'Bacteria;Actinobacteriota;Coriobacteriia': <tf.Tensor: shape=(), dtype=int64, numpy=134>, 'Bacteria;Actinobacteriota;Thermoleophilia': <tf.Tensor: shape=(), dtype=int64, numpy=0>, 'Bacteria;Bacteroidota;Bacteroidia': <tf.Tensor: shape=(), dtype=int64, numpy=4412>, 'Bacteria;Bdellovibrionota;Bdellovibrionia': <tf.Tensor: shape=(), dtype=int64, numpy=0>, 'Bacteria;Bdellovibrionota;Oligoflexia': <tf.Tensor: shape=(), dtype=int64, numpy=0>, 'Bacteria;Campilobacterota;Campylobacteria': <tf.Tensor: shape=(), dtype=int64, numpy=2>, 'Bacteria;Chloroflexi;Anaerolineae': <tf.Tensor: shape=(), dtype=int64, numpy=0>, 'Bacteria;Chloroflexi;Chloroflexia': <tf.Tensor: shape=(), dtype=int64, numpy=0>, 'Bacteria;Cyanobacteria;Cyanobacteriia': <tf.Tensor: shape=(), dtype=int64, numpy=0>, 'Bacteria;Cyanobacteria;Vampirivibrionia': <tf.Tensor: shape=(), dtype=int64, numpy=5>, 'Bacteria;Dependentiae;Babeliae': <tf.Tensor: shape=(), dtype=int64, numpy=0>, 'Bacteria;Desulfobacterota;Desulfovibrionia': <tf.Tensor: shape=(), dtype=int64, numpy=13>, 'Bacteria;Desulfobacterota;Desulfuromonadia': <tf.Tensor: shape=(), dtype=int64, numpy=0>, 'Bacteria;Desulfobacterota;Syntrophia': <tf.Tensor: shape=(), dtype=int64, numpy=0>, 'Bacteria;Elusimicrobiota;Elusimicrobia': <tf.Tensor: shape=(), dtype=int64, numpy=0>, 'Bacteria;Elusimicrobiota;Lineage IIa': <tf.Tensor: shape=(), dtype=int64, numpy=0>, 'Bacteria;Fibrobacterota;Fibrobacteria': <tf.Tensor: shape=(), dtype=int64, numpy=0>, 'Bacteria;Firmicutes;Bacilli': <tf.Tensor: shape=(), dtype=int64, numpy=711>, 'Bacteria;Firmicutes;Clostridia': <tf.Tensor: shape=(), dtype=int64, numpy=5125>, 'Bacteria;Firmicutes;Incertae Sedis': <tf.Tensor: shape=(), dtype=int64, numpy=0>, 'Bacteria;Firmicutes;Limnochordia': <tf.Tensor: shape=(), dtype=int64, numpy=0>, 'Bacteria;Firmicutes;Moorellia': <tf.Tensor: shape=(), dtype=int64, numpy=0>, 'Bacteria;Firmicutes;Negativicutes': <tf.Tensor: shape=(), dtype=int64, numpy=131>, 'Bacteria;Firmicutes;Syntrophomonadia': <tf.Tensor: shape=(), dtype=int64, numpy=0>, 'Bacteria;Firmicutes;uncultured': <tf.Tensor: shape=(), dtype=int64, numpy=0>, 'Bacteria;Fusobacteriota;Fusobacteriia': <tf.Tensor: shape=(), dtype=int64, numpy=1>, 'Bacteria;Myxococcota;Polyangia': <tf.Tensor: shape=(), dtype=int64, numpy=0>, 'Bacteria;Myxococcota;bacteriap25': <tf.Tensor: shape=(), dtype=int64, numpy=0>, 'Bacteria;Nitrospirota;Nitrospiria': <tf.Tensor: shape=(), dtype=int64, numpy=0>, 'Bacteria;Patescibacteria;Gracilibacteria': <tf.Tensor: shape=(), dtype=int64, numpy=0>, 'Bacteria;Patescibacteria;Parcubacteria': <tf.Tensor: shape=(), dtype=int64, numpy=0>, 'Bacteria;Patescibacteria;Saccharimonadia': <tf.Tensor: shape=(), dtype=int64, numpy=0>, 'Bacteria;Proteobacteria;Alphaproteobacteria': <tf.Tensor: shape=(), dtype=int64, numpy=0>, 'Bacteria;Proteobacteria;Gammaproteobacteria': <tf.Tensor: shape=(), dtype=int64, numpy=5584>, 'Bacteria;Spirochaetota;Brachyspirae': <tf.Tensor: shape=(), dtype=int64, numpy=0>, 'Bacteria;Spirochaetota;Spirochaetia': <tf.Tensor: shape=(), dtype=int64, numpy=0>, 'Bacteria;Synergistota;Synergistia': <tf.Tensor: shape=(), dtype=int64, numpy=0>, 'Bacteria;Verrucomicrobiota;Lentisphaeria': <tf.Tensor: shape=(), dtype=int64, numpy=0>, 'Bacteria;Verrucomicrobiota;Verrucomicrobiae': <tf.Tensor: shape=(), dtype=int64, numpy=1>}\n",
      "Target: tf.Tensor(0, shape=(), dtype=int64)\n"
     ]
    }
   ],
   "source": [
    "for x, y in train_ds.take(1):\n",
    "    print(\"Input:\", x)\n",
    "    print(\"Target:\", y)"
   ],
   "metadata": {
    "collapsed": false
   }
  },
  {
   "cell_type": "code",
   "execution_count": 36,
   "outputs": [],
   "source": [
    "#batching\n",
    "train_ds = train_ds.batch(32)\n",
    "val_ds = val_ds.batch(32)\n",
    "test_ds = test_ds.batch(32)"
   ],
   "metadata": {
    "collapsed": false
   }
  },
  {
   "cell_type": "code",
   "execution_count": 37,
   "outputs": [],
   "source": [
    "# create Keras.inputs()\n",
    "def to_input(name):\n",
    "    return keras.Input(shape=(1,), name = str(name), dtype= \"int64\")\n"
   ],
   "metadata": {
    "collapsed": false
   }
  },
  {
   "cell_type": "code",
   "execution_count": 38,
   "outputs": [],
   "source": [
    "all_inputs = []\n",
    "for name in train.columns:\n",
    "    all_inputs.append(to_input(name))\n",
    "\n",
    "all_inputs = all_inputs[ : -1] #except label"
   ],
   "metadata": {
    "collapsed": false
   }
  },
  {
   "cell_type": "code",
   "execution_count": 39,
   "outputs": [
    {
     "name": "stdout",
     "output_type": "stream",
     "text": [
      "[<KerasTensor: shape=(None, 1) dtype=int64 (created by layer 'Bacteria;Abditibacteriota;Abditibacteria')>, <KerasTensor: shape=(None, 1) dtype=int64 (created by layer 'Bacteria;Acidobacteriota;Aminicenantia')>, <KerasTensor: shape=(None, 1) dtype=int64 (created by layer 'Bacteria;Acidobacteriota;Blastocatellia')>, <KerasTensor: shape=(None, 1) dtype=int64 (created by layer 'Bacteria;Acidobacteriota;Subgroup 19')>, <KerasTensor: shape=(None, 1) dtype=int64 (created by layer 'Bacteria;Acidobacteriota;Subgroup 5')>, <KerasTensor: shape=(None, 1) dtype=int64 (created by layer 'Bacteria;Acidobacteriota;Vicinamibacteria')>, <KerasTensor: shape=(None, 1) dtype=int64 (created by layer 'Bacteria;Actinobacteriota;Acidimicrobiia')>, <KerasTensor: shape=(None, 1) dtype=int64 (created by layer 'Bacteria;Actinobacteriota;Actinobacteria')>, <KerasTensor: shape=(None, 1) dtype=int64 (created by layer 'Bacteria;Actinobacteriota;Coriobacteriia')>, <KerasTensor: shape=(None, 1) dtype=int64 (created by layer 'Bacteria;Actinobacteriota;Thermoleophilia')>, <KerasTensor: shape=(None, 1) dtype=int64 (created by layer 'Bacteria;Bacteroidota;Bacteroidia')>, <KerasTensor: shape=(None, 1) dtype=int64 (created by layer 'Bacteria;Bdellovibrionota;Bdellovibrionia')>, <KerasTensor: shape=(None, 1) dtype=int64 (created by layer 'Bacteria;Bdellovibrionota;Oligoflexia')>, <KerasTensor: shape=(None, 1) dtype=int64 (created by layer 'Bacteria;Campilobacterota;Campylobacteria')>, <KerasTensor: shape=(None, 1) dtype=int64 (created by layer 'Bacteria;Chloroflexi;Anaerolineae')>, <KerasTensor: shape=(None, 1) dtype=int64 (created by layer 'Bacteria;Chloroflexi;Chloroflexia')>, <KerasTensor: shape=(None, 1) dtype=int64 (created by layer 'Bacteria;Cyanobacteria;Cyanobacteriia')>, <KerasTensor: shape=(None, 1) dtype=int64 (created by layer 'Bacteria;Cyanobacteria;Vampirivibrionia')>, <KerasTensor: shape=(None, 1) dtype=int64 (created by layer 'Bacteria;Dependentiae;Babeliae')>, <KerasTensor: shape=(None, 1) dtype=int64 (created by layer 'Bacteria;Desulfobacterota;Desulfovibrionia')>, <KerasTensor: shape=(None, 1) dtype=int64 (created by layer 'Bacteria;Desulfobacterota;Desulfuromonadia')>, <KerasTensor: shape=(None, 1) dtype=int64 (created by layer 'Bacteria;Desulfobacterota;Syntrophia')>, <KerasTensor: shape=(None, 1) dtype=int64 (created by layer 'Bacteria;Elusimicrobiota;Elusimicrobia')>, <KerasTensor: shape=(None, 1) dtype=int64 (created by layer 'Bacteria;Elusimicrobiota;Lineage IIa')>, <KerasTensor: shape=(None, 1) dtype=int64 (created by layer 'Bacteria;Fibrobacterota;Fibrobacteria')>, <KerasTensor: shape=(None, 1) dtype=int64 (created by layer 'Bacteria;Firmicutes;Bacilli')>, <KerasTensor: shape=(None, 1) dtype=int64 (created by layer 'Bacteria;Firmicutes;Clostridia')>, <KerasTensor: shape=(None, 1) dtype=int64 (created by layer 'Bacteria;Firmicutes;Incertae Sedis')>, <KerasTensor: shape=(None, 1) dtype=int64 (created by layer 'Bacteria;Firmicutes;Limnochordia')>, <KerasTensor: shape=(None, 1) dtype=int64 (created by layer 'Bacteria;Firmicutes;Moorellia')>, <KerasTensor: shape=(None, 1) dtype=int64 (created by layer 'Bacteria;Firmicutes;Negativicutes')>, <KerasTensor: shape=(None, 1) dtype=int64 (created by layer 'Bacteria;Firmicutes;Syntrophomonadia')>, <KerasTensor: shape=(None, 1) dtype=int64 (created by layer 'Bacteria;Firmicutes;uncultured')>, <KerasTensor: shape=(None, 1) dtype=int64 (created by layer 'Bacteria;Fusobacteriota;Fusobacteriia')>, <KerasTensor: shape=(None, 1) dtype=int64 (created by layer 'Bacteria;Myxococcota;Polyangia')>, <KerasTensor: shape=(None, 1) dtype=int64 (created by layer 'Bacteria;Myxococcota;bacteriap25')>, <KerasTensor: shape=(None, 1) dtype=int64 (created by layer 'Bacteria;Nitrospirota;Nitrospiria')>, <KerasTensor: shape=(None, 1) dtype=int64 (created by layer 'Bacteria;Patescibacteria;Gracilibacteria')>, <KerasTensor: shape=(None, 1) dtype=int64 (created by layer 'Bacteria;Patescibacteria;Parcubacteria')>, <KerasTensor: shape=(None, 1) dtype=int64 (created by layer 'Bacteria;Patescibacteria;Saccharimonadia')>, <KerasTensor: shape=(None, 1) dtype=int64 (created by layer 'Bacteria;Proteobacteria;Alphaproteobacteria')>, <KerasTensor: shape=(None, 1) dtype=int64 (created by layer 'Bacteria;Proteobacteria;Gammaproteobacteria')>, <KerasTensor: shape=(None, 1) dtype=int64 (created by layer 'Bacteria;Spirochaetota;Brachyspirae')>, <KerasTensor: shape=(None, 1) dtype=int64 (created by layer 'Bacteria;Spirochaetota;Spirochaetia')>, <KerasTensor: shape=(None, 1) dtype=int64 (created by layer 'Bacteria;Synergistota;Synergistia')>, <KerasTensor: shape=(None, 1) dtype=int64 (created by layer 'Bacteria;Verrucomicrobiota;Lentisphaeria')>, <KerasTensor: shape=(None, 1) dtype=int64 (created by layer 'Bacteria;Verrucomicrobiota;Verrucomicrobiae')>]\n"
     ]
    }
   ],
   "source": [
    "print(all_inputs)"
   ],
   "metadata": {
    "collapsed": false
   }
  },
  {
   "cell_type": "code",
   "execution_count": 40,
   "outputs": [
    {
     "name": "stdout",
     "output_type": "stream",
     "text": [
      "Bacteria;Abditibacteriota;Abditibacteria\n"
     ]
    }
   ],
   "source": [
    "print(all_inputs[0].name)"
   ],
   "metadata": {
    "collapsed": false
   }
  },
  {
   "cell_type": "code",
   "execution_count": 41,
   "outputs": [],
   "source": [
    "def encode_numerical_feature(feature, name, dataset):\n",
    "    # Create a Normalization layer for our feature\n",
    "    normalizer = layers.Normalization()\n",
    "\n",
    "    # Prepare a Dataset that only yields our feature\n",
    "    feature_ds = dataset.map(lambda x, y: x[name])\n",
    "    feature_ds = feature_ds.map(lambda x: tf.expand_dims(x, -1))\n",
    "\n",
    "    # Learn the statistics of the data\n",
    "    normalizer.adapt(feature_ds)\n",
    "\n",
    "    # Normalize the input feature\n",
    "    encoded_feature = normalizer(feature)\n",
    "    return encoded_feature\n"
   ],
   "metadata": {
    "collapsed": false
   }
  },
  {
   "cell_type": "code",
   "execution_count": 42,
   "outputs": [
    {
     "name": "stdout",
     "output_type": "stream",
     "text": [
      "Bacteria;Abditibacteriota;Abditibacteria\n",
      "47\n"
     ]
    }
   ],
   "source": [
    "print(all_inputs[0].name)\n",
    "print(len(all_inputs))"
   ],
   "metadata": {
    "collapsed": false
   }
  },
  {
   "cell_type": "code",
   "execution_count": 43,
   "outputs": [
    {
     "name": "stdout",
     "output_type": "stream",
     "text": [
      "KerasTensor(type_spec=TensorSpec(shape=(None, 1), dtype=tf.float32, name=None), name='normalization/truediv:0', description=\"created by layer 'normalization'\")\n"
     ]
    },
    {
     "name": "stderr",
     "output_type": "stream",
     "text": [
      "2023-01-05 10:56:29.662350: W tensorflow/core/platform/profile_utils/cpu_utils.cc:128] Failed to get CPU frequency: 0 Hz\n"
     ]
    }
   ],
   "source": [
    "first_layer = encode_numerical_feature(all_inputs[0],all_inputs[0].name,train_ds)\n",
    "print(first_layer)"
   ],
   "metadata": {
    "collapsed": false
   }
  },
  {
   "cell_type": "code",
   "execution_count": 44,
   "outputs": [],
   "source": [
    "encoded_list = []\n",
    "length = 47\n",
    "for i in range(46):\n",
    "   encoded_list.append(encode_numerical_feature(all_inputs[i],all_inputs[i].name,train_ds))"
   ],
   "metadata": {
    "collapsed": false
   }
  },
  {
   "cell_type": "code",
   "execution_count": 45,
   "outputs": [
    {
     "name": "stdout",
     "output_type": "stream",
     "text": [
      "[<KerasTensor: shape=(None, 1) dtype=float32 (created by layer 'normalization_1')>, <KerasTensor: shape=(None, 1) dtype=float32 (created by layer 'normalization_2')>, <KerasTensor: shape=(None, 1) dtype=float32 (created by layer 'normalization_3')>, <KerasTensor: shape=(None, 1) dtype=float32 (created by layer 'normalization_4')>, <KerasTensor: shape=(None, 1) dtype=float32 (created by layer 'normalization_5')>, <KerasTensor: shape=(None, 1) dtype=float32 (created by layer 'normalization_6')>, <KerasTensor: shape=(None, 1) dtype=float32 (created by layer 'normalization_7')>, <KerasTensor: shape=(None, 1) dtype=float32 (created by layer 'normalization_8')>, <KerasTensor: shape=(None, 1) dtype=float32 (created by layer 'normalization_9')>, <KerasTensor: shape=(None, 1) dtype=float32 (created by layer 'normalization_10')>, <KerasTensor: shape=(None, 1) dtype=float32 (created by layer 'normalization_11')>, <KerasTensor: shape=(None, 1) dtype=float32 (created by layer 'normalization_12')>, <KerasTensor: shape=(None, 1) dtype=float32 (created by layer 'normalization_13')>, <KerasTensor: shape=(None, 1) dtype=float32 (created by layer 'normalization_14')>, <KerasTensor: shape=(None, 1) dtype=float32 (created by layer 'normalization_15')>, <KerasTensor: shape=(None, 1) dtype=float32 (created by layer 'normalization_16')>, <KerasTensor: shape=(None, 1) dtype=float32 (created by layer 'normalization_17')>, <KerasTensor: shape=(None, 1) dtype=float32 (created by layer 'normalization_18')>, <KerasTensor: shape=(None, 1) dtype=float32 (created by layer 'normalization_19')>, <KerasTensor: shape=(None, 1) dtype=float32 (created by layer 'normalization_20')>, <KerasTensor: shape=(None, 1) dtype=float32 (created by layer 'normalization_21')>, <KerasTensor: shape=(None, 1) dtype=float32 (created by layer 'normalization_22')>, <KerasTensor: shape=(None, 1) dtype=float32 (created by layer 'normalization_23')>, <KerasTensor: shape=(None, 1) dtype=float32 (created by layer 'normalization_24')>, <KerasTensor: shape=(None, 1) dtype=float32 (created by layer 'normalization_25')>, <KerasTensor: shape=(None, 1) dtype=float32 (created by layer 'normalization_26')>, <KerasTensor: shape=(None, 1) dtype=float32 (created by layer 'normalization_27')>, <KerasTensor: shape=(None, 1) dtype=float32 (created by layer 'normalization_28')>, <KerasTensor: shape=(None, 1) dtype=float32 (created by layer 'normalization_29')>, <KerasTensor: shape=(None, 1) dtype=float32 (created by layer 'normalization_30')>, <KerasTensor: shape=(None, 1) dtype=float32 (created by layer 'normalization_31')>, <KerasTensor: shape=(None, 1) dtype=float32 (created by layer 'normalization_32')>, <KerasTensor: shape=(None, 1) dtype=float32 (created by layer 'normalization_33')>, <KerasTensor: shape=(None, 1) dtype=float32 (created by layer 'normalization_34')>, <KerasTensor: shape=(None, 1) dtype=float32 (created by layer 'normalization_35')>, <KerasTensor: shape=(None, 1) dtype=float32 (created by layer 'normalization_36')>, <KerasTensor: shape=(None, 1) dtype=float32 (created by layer 'normalization_37')>, <KerasTensor: shape=(None, 1) dtype=float32 (created by layer 'normalization_38')>, <KerasTensor: shape=(None, 1) dtype=float32 (created by layer 'normalization_39')>, <KerasTensor: shape=(None, 1) dtype=float32 (created by layer 'normalization_40')>, <KerasTensor: shape=(None, 1) dtype=float32 (created by layer 'normalization_41')>, <KerasTensor: shape=(None, 1) dtype=float32 (created by layer 'normalization_42')>, <KerasTensor: shape=(None, 1) dtype=float32 (created by layer 'normalization_43')>, <KerasTensor: shape=(None, 1) dtype=float32 (created by layer 'normalization_44')>, <KerasTensor: shape=(None, 1) dtype=float32 (created by layer 'normalization_45')>, <KerasTensor: shape=(None, 1) dtype=float32 (created by layer 'normalization_46')>]\n"
     ]
    }
   ],
   "source": [
    "print(encoded_list)"
   ],
   "metadata": {
    "collapsed": false
   }
  },
  {
   "cell_type": "code",
   "execution_count": 46,
   "outputs": [],
   "source": [
    "all_features = layers.concatenate(encoded_list)"
   ],
   "metadata": {
    "collapsed": false
   }
  },
  {
   "cell_type": "code",
   "execution_count": 47,
   "outputs": [],
   "source": [
    "x = layers.Dense(32, activation=\"relu\") (all_features)\n",
    "x = layers.Dropout(0.5)(x)\n",
    "output = layers.Dense(1, activation = \"sigmoid\") (x)"
   ],
   "metadata": {
    "collapsed": false
   }
  },
  {
   "cell_type": "code",
   "execution_count": 48,
   "outputs": [],
   "source": [
    "model = keras.Model(all_inputs, output)\n",
    "model.compile(\"adam\", \"binary_crossentropy\", metrics=[\"accuracy\"])"
   ],
   "metadata": {
    "collapsed": false
   }
  },
  {
   "cell_type": "code",
   "execution_count": 49,
   "outputs": [
    {
     "name": "stdout",
     "output_type": "stream",
     "text": [
      "Epoch 1/50\n",
      "70/70 [==============================] - 1s 5ms/step - loss: 0.7616 - accuracy: 0.6347 - val_loss: 63656.1016 - val_accuracy: 0.7276\n",
      "Epoch 2/50\n",
      "70/70 [==============================] - 0s 2ms/step - loss: 0.7283 - accuracy: 0.6862 - val_loss: 59195.9766 - val_accuracy: 0.7384\n",
      "Epoch 3/50\n",
      "70/70 [==============================] - 0s 2ms/step - loss: 0.7152 - accuracy: 0.7090 - val_loss: 57423.6914 - val_accuracy: 0.7455\n",
      "Epoch 4/50\n",
      "70/70 [==============================] - 0s 2ms/step - loss: 0.6631 - accuracy: 0.7198 - val_loss: 55210.0430 - val_accuracy: 0.7563\n",
      "Epoch 5/50\n",
      "70/70 [==============================] - 0s 2ms/step - loss: 0.6544 - accuracy: 0.7363 - val_loss: 54628.7891 - val_accuracy: 0.7491\n",
      "Epoch 6/50\n",
      "70/70 [==============================] - 0s 2ms/step - loss: 0.6244 - accuracy: 0.7305 - val_loss: 53696.1641 - val_accuracy: 0.7527\n",
      "Epoch 7/50\n",
      "70/70 [==============================] - 0s 2ms/step - loss: 0.6230 - accuracy: 0.7377 - val_loss: 53253.4492 - val_accuracy: 0.7455\n",
      "Epoch 8/50\n",
      "70/70 [==============================] - 0s 2ms/step - loss: 0.6298 - accuracy: 0.7462 - val_loss: 51196.8945 - val_accuracy: 0.7455\n",
      "Epoch 9/50\n",
      "70/70 [==============================] - 0s 2ms/step - loss: 0.6112 - accuracy: 0.7328 - val_loss: 50505.0234 - val_accuracy: 0.7563\n",
      "Epoch 10/50\n",
      "70/70 [==============================] - 0s 2ms/step - loss: 0.5803 - accuracy: 0.7449 - val_loss: 49793.2812 - val_accuracy: 0.7527\n",
      "Epoch 11/50\n",
      "70/70 [==============================] - 0s 2ms/step - loss: 0.6013 - accuracy: 0.7390 - val_loss: 50937.8906 - val_accuracy: 0.7491\n",
      "Epoch 12/50\n",
      "70/70 [==============================] - 0s 2ms/step - loss: 0.5867 - accuracy: 0.7395 - val_loss: 48541.3125 - val_accuracy: 0.7527\n",
      "Epoch 13/50\n",
      "70/70 [==============================] - 0s 2ms/step - loss: 0.5936 - accuracy: 0.7372 - val_loss: 45687.5078 - val_accuracy: 0.7527\n",
      "Epoch 14/50\n",
      "70/70 [==============================] - 0s 2ms/step - loss: 0.5596 - accuracy: 0.7453 - val_loss: 45031.3242 - val_accuracy: 0.7563\n",
      "Epoch 15/50\n",
      "70/70 [==============================] - 0s 2ms/step - loss: 0.5990 - accuracy: 0.7337 - val_loss: 42819.3320 - val_accuracy: 0.7527\n",
      "Epoch 16/50\n",
      "70/70 [==============================] - 0s 2ms/step - loss: 0.5857 - accuracy: 0.7363 - val_loss: 39563.0156 - val_accuracy: 0.7527\n",
      "Epoch 17/50\n",
      "70/70 [==============================] - 0s 2ms/step - loss: 0.5747 - accuracy: 0.7337 - val_loss: 38759.2578 - val_accuracy: 0.7599\n",
      "Epoch 18/50\n",
      "70/70 [==============================] - 0s 2ms/step - loss: 0.5410 - accuracy: 0.7471 - val_loss: 37466.8086 - val_accuracy: 0.7527\n",
      "Epoch 19/50\n",
      "70/70 [==============================] - 0s 2ms/step - loss: 0.5733 - accuracy: 0.7337 - val_loss: 33546.6133 - val_accuracy: 0.7491\n",
      "Epoch 20/50\n",
      "70/70 [==============================] - 0s 2ms/step - loss: 0.5539 - accuracy: 0.7314 - val_loss: 31198.0781 - val_accuracy: 0.7419\n",
      "Epoch 21/50\n",
      "70/70 [==============================] - 0s 2ms/step - loss: 0.5439 - accuracy: 0.7399 - val_loss: 31208.7090 - val_accuracy: 0.7491\n",
      "Epoch 22/50\n",
      "70/70 [==============================] - 0s 2ms/step - loss: 0.5328 - accuracy: 0.7395 - val_loss: 31634.3008 - val_accuracy: 0.7491\n",
      "Epoch 23/50\n",
      "70/70 [==============================] - 0s 2ms/step - loss: 0.5498 - accuracy: 0.7337 - val_loss: 28132.3047 - val_accuracy: 0.7491\n",
      "Epoch 24/50\n",
      "70/70 [==============================] - 0s 2ms/step - loss: 0.5408 - accuracy: 0.7328 - val_loss: 28420.6992 - val_accuracy: 0.7527\n",
      "Epoch 25/50\n",
      "70/70 [==============================] - 0s 2ms/step - loss: 0.5264 - accuracy: 0.7390 - val_loss: 28652.8594 - val_accuracy: 0.7527\n",
      "Epoch 26/50\n",
      "70/70 [==============================] - 0s 2ms/step - loss: 0.5236 - accuracy: 0.7301 - val_loss: 25988.3203 - val_accuracy: 0.7419\n",
      "Epoch 27/50\n",
      "70/70 [==============================] - 0s 2ms/step - loss: 0.5274 - accuracy: 0.7341 - val_loss: 24405.0469 - val_accuracy: 0.7455\n",
      "Epoch 28/50\n",
      "70/70 [==============================] - 0s 2ms/step - loss: 0.5216 - accuracy: 0.7350 - val_loss: 22634.4727 - val_accuracy: 0.7419\n",
      "Epoch 29/50\n",
      "70/70 [==============================] - 0s 2ms/step - loss: 0.4846 - accuracy: 0.7359 - val_loss: 21139.8711 - val_accuracy: 0.7384\n",
      "Epoch 30/50\n",
      "70/70 [==============================] - 0s 2ms/step - loss: 0.4766 - accuracy: 0.7296 - val_loss: 20266.8027 - val_accuracy: 0.7455\n",
      "Epoch 31/50\n",
      "70/70 [==============================] - 0s 2ms/step - loss: 0.4607 - accuracy: 0.7355 - val_loss: 18958.0098 - val_accuracy: 0.7455\n",
      "Epoch 32/50\n",
      "70/70 [==============================] - 0s 2ms/step - loss: 0.4933 - accuracy: 0.7350 - val_loss: 17196.8867 - val_accuracy: 0.7491\n",
      "Epoch 33/50\n",
      "70/70 [==============================] - 0s 2ms/step - loss: 0.4545 - accuracy: 0.7435 - val_loss: 14954.0166 - val_accuracy: 0.7455\n",
      "Epoch 34/50\n",
      "70/70 [==============================] - 0s 2ms/step - loss: 0.5062 - accuracy: 0.7377 - val_loss: 14162.5811 - val_accuracy: 0.7527\n",
      "Epoch 35/50\n",
      "70/70 [==============================] - 0s 2ms/step - loss: 0.4531 - accuracy: 0.7368 - val_loss: 13594.8223 - val_accuracy: 0.7491\n",
      "Epoch 36/50\n",
      "70/70 [==============================] - 0s 2ms/step - loss: 0.4688 - accuracy: 0.7332 - val_loss: 14563.0283 - val_accuracy: 0.7527\n",
      "Epoch 37/50\n",
      "70/70 [==============================] - 0s 2ms/step - loss: 0.4557 - accuracy: 0.7355 - val_loss: 14439.3018 - val_accuracy: 0.7527\n",
      "Epoch 38/50\n",
      "70/70 [==============================] - 0s 2ms/step - loss: 0.4214 - accuracy: 0.7292 - val_loss: 12752.3613 - val_accuracy: 0.7527\n",
      "Epoch 39/50\n",
      "70/70 [==============================] - 0s 2ms/step - loss: 0.4543 - accuracy: 0.7296 - val_loss: 13709.5381 - val_accuracy: 0.7527\n",
      "Epoch 40/50\n",
      "70/70 [==============================] - 0s 2ms/step - loss: 0.4152 - accuracy: 0.7399 - val_loss: 14286.9189 - val_accuracy: 0.7527\n",
      "Epoch 41/50\n",
      "70/70 [==============================] - 0s 2ms/step - loss: 0.4010 - accuracy: 0.7350 - val_loss: 11139.7773 - val_accuracy: 0.7491\n",
      "Epoch 42/50\n",
      "70/70 [==============================] - 0s 2ms/step - loss: 0.3730 - accuracy: 0.7310 - val_loss: 9116.7383 - val_accuracy: 0.7419\n",
      "Epoch 43/50\n",
      "70/70 [==============================] - 0s 2ms/step - loss: 0.4571 - accuracy: 0.7323 - val_loss: 8853.3789 - val_accuracy: 0.7455\n",
      "Epoch 44/50\n",
      "70/70 [==============================] - 0s 2ms/step - loss: 0.4736 - accuracy: 0.7319 - val_loss: 8800.1582 - val_accuracy: 0.7527\n",
      "Epoch 45/50\n",
      "70/70 [==============================] - 0s 2ms/step - loss: 0.4141 - accuracy: 0.7413 - val_loss: 6124.5991 - val_accuracy: 0.7491\n",
      "Epoch 46/50\n",
      "70/70 [==============================] - 0s 2ms/step - loss: 0.4148 - accuracy: 0.7296 - val_loss: 3544.2703 - val_accuracy: 0.7455\n",
      "Epoch 47/50\n",
      "70/70 [==============================] - 0s 2ms/step - loss: 0.4546 - accuracy: 0.7265 - val_loss: 1042.4084 - val_accuracy: 0.7491\n",
      "Epoch 48/50\n",
      "70/70 [==============================] - 0s 2ms/step - loss: 0.4011 - accuracy: 0.7390 - val_loss: 953.6662 - val_accuracy: 0.7455\n",
      "Epoch 49/50\n",
      "70/70 [==============================] - 0s 2ms/step - loss: 0.4143 - accuracy: 0.7332 - val_loss: 0.6495 - val_accuracy: 0.7634\n",
      "Epoch 50/50\n",
      "70/70 [==============================] - 0s 2ms/step - loss: 0.4373 - accuracy: 0.7292 - val_loss: 0.6542 - val_accuracy: 0.7563\n"
     ]
    },
    {
     "data": {
      "text/plain": "<keras.callbacks.History at 0x2a1e36650>"
     },
     "execution_count": 49,
     "metadata": {},
     "output_type": "execute_result"
    }
   ],
   "source": [
    "model.fit(train_ds, epochs=50, validation_data=val_ds)"
   ],
   "metadata": {
    "collapsed": false
   }
  },
  {
   "cell_type": "code",
   "execution_count": 50,
   "outputs": [
    {
     "name": "stdout",
     "output_type": "stream",
     "text": [
      "Model: \"model\"\n",
      "__________________________________________________________________________________________________\n",
      " Layer (type)                   Output Shape         Param #     Connected to                     \n",
      "==================================================================================================\n",
      " Bacteria;Abditibacteriota;Abdi  [(None, 1)]         0           []                               \n",
      " tibacteria (InputLayer)                                                                          \n",
      "                                                                                                  \n",
      " Bacteria;Acidobacteriota;Amini  [(None, 1)]         0           []                               \n",
      " cenantia (InputLayer)                                                                            \n",
      "                                                                                                  \n",
      " Bacteria;Acidobacteriota;Blast  [(None, 1)]         0           []                               \n",
      " ocatellia (InputLayer)                                                                           \n",
      "                                                                                                  \n",
      " Bacteria;Acidobacteriota;Subgr  [(None, 1)]         0           []                               \n",
      " oup 19 (InputLayer)                                                                              \n",
      "                                                                                                  \n",
      " Bacteria;Acidobacteriota;Subgr  [(None, 1)]         0           []                               \n",
      " oup 5 (InputLayer)                                                                               \n",
      "                                                                                                  \n",
      " Bacteria;Acidobacteriota;Vicin  [(None, 1)]         0           []                               \n",
      " amibacteria (InputLayer)                                                                         \n",
      "                                                                                                  \n",
      " Bacteria;Actinobacteriota;Acid  [(None, 1)]         0           []                               \n",
      " imicrobiia (InputLayer)                                                                          \n",
      "                                                                                                  \n",
      " Bacteria;Actinobacteriota;Acti  [(None, 1)]         0           []                               \n",
      " nobacteria (InputLayer)                                                                          \n",
      "                                                                                                  \n",
      " Bacteria;Actinobacteriota;Cori  [(None, 1)]         0           []                               \n",
      " obacteriia (InputLayer)                                                                          \n",
      "                                                                                                  \n",
      " Bacteria;Actinobacteriota;Ther  [(None, 1)]         0           []                               \n",
      " moleophilia (InputLayer)                                                                         \n",
      "                                                                                                  \n",
      " Bacteria;Bacteroidota;Bacteroi  [(None, 1)]         0           []                               \n",
      " dia (InputLayer)                                                                                 \n",
      "                                                                                                  \n",
      " Bacteria;Bdellovibrionota;Bdel  [(None, 1)]         0           []                               \n",
      " lovibrionia (InputLayer)                                                                         \n",
      "                                                                                                  \n",
      " Bacteria;Bdellovibrionota;Olig  [(None, 1)]         0           []                               \n",
      " oflexia (InputLayer)                                                                             \n",
      "                                                                                                  \n",
      " Bacteria;Campilobacterota;Camp  [(None, 1)]         0           []                               \n",
      " ylobacteria (InputLayer)                                                                         \n",
      "                                                                                                  \n",
      " Bacteria;Chloroflexi;Anaerolin  [(None, 1)]         0           []                               \n",
      " eae (InputLayer)                                                                                 \n",
      "                                                                                                  \n",
      " Bacteria;Chloroflexi;Chlorofle  [(None, 1)]         0           []                               \n",
      " xia (InputLayer)                                                                                 \n",
      "                                                                                                  \n",
      " Bacteria;Cyanobacteria;Cyanoba  [(None, 1)]         0           []                               \n",
      " cteriia (InputLayer)                                                                             \n",
      "                                                                                                  \n",
      " Bacteria;Cyanobacteria;Vampiri  [(None, 1)]         0           []                               \n",
      " vibrionia (InputLayer)                                                                           \n",
      "                                                                                                  \n",
      " Bacteria;Dependentiae;Babeliae  [(None, 1)]         0           []                               \n",
      "  (InputLayer)                                                                                    \n",
      "                                                                                                  \n",
      " Bacteria;Desulfobacterota;Desu  [(None, 1)]         0           []                               \n",
      " lfovibrionia (InputLayer)                                                                        \n",
      "                                                                                                  \n",
      " Bacteria;Desulfobacterota;Desu  [(None, 1)]         0           []                               \n",
      " lfuromonadia (InputLayer)                                                                        \n",
      "                                                                                                  \n",
      " Bacteria;Desulfobacterota;Synt  [(None, 1)]         0           []                               \n",
      " rophia (InputLayer)                                                                              \n",
      "                                                                                                  \n",
      " Bacteria;Elusimicrobiota;Elusi  [(None, 1)]         0           []                               \n",
      " microbia (InputLayer)                                                                            \n",
      "                                                                                                  \n",
      " Bacteria;Elusimicrobiota;Linea  [(None, 1)]         0           []                               \n",
      " ge IIa (InputLayer)                                                                              \n",
      "                                                                                                  \n",
      " Bacteria;Fibrobacterota;Fibrob  [(None, 1)]         0           []                               \n",
      " acteria (InputLayer)                                                                             \n",
      "                                                                                                  \n",
      " Bacteria;Firmicutes;Bacilli (I  [(None, 1)]         0           []                               \n",
      " nputLayer)                                                                                       \n",
      "                                                                                                  \n",
      " Bacteria;Firmicutes;Clostridia  [(None, 1)]         0           []                               \n",
      "  (InputLayer)                                                                                    \n",
      "                                                                                                  \n",
      " Bacteria;Firmicutes;Incertae S  [(None, 1)]         0           []                               \n",
      " edis (InputLayer)                                                                                \n",
      "                                                                                                  \n",
      " Bacteria;Firmicutes;Limnochord  [(None, 1)]         0           []                               \n",
      " ia (InputLayer)                                                                                  \n",
      "                                                                                                  \n",
      " Bacteria;Firmicutes;Moorellia   [(None, 1)]         0           []                               \n",
      " (InputLayer)                                                                                     \n",
      "                                                                                                  \n",
      " Bacteria;Firmicutes;Negativicu  [(None, 1)]         0           []                               \n",
      " tes (InputLayer)                                                                                 \n",
      "                                                                                                  \n",
      " Bacteria;Firmicutes;Syntrophom  [(None, 1)]         0           []                               \n",
      " onadia (InputLayer)                                                                              \n",
      "                                                                                                  \n",
      " Bacteria;Firmicutes;uncultured  [(None, 1)]         0           []                               \n",
      "  (InputLayer)                                                                                    \n",
      "                                                                                                  \n",
      " Bacteria;Fusobacteriota;Fusoba  [(None, 1)]         0           []                               \n",
      " cteriia (InputLayer)                                                                             \n",
      "                                                                                                  \n",
      " Bacteria;Myxococcota;Polyangia  [(None, 1)]         0           []                               \n",
      "  (InputLayer)                                                                                    \n",
      "                                                                                                  \n",
      " Bacteria;Myxococcota;bacteriap  [(None, 1)]         0           []                               \n",
      " 25 (InputLayer)                                                                                  \n",
      "                                                                                                  \n",
      " Bacteria;Nitrospirota;Nitrospi  [(None, 1)]         0           []                               \n",
      " ria (InputLayer)                                                                                 \n",
      "                                                                                                  \n",
      " Bacteria;Patescibacteria;Graci  [(None, 1)]         0           []                               \n",
      " libacteria (InputLayer)                                                                          \n",
      "                                                                                                  \n",
      " Bacteria;Patescibacteria;Parcu  [(None, 1)]         0           []                               \n",
      " bacteria (InputLayer)                                                                            \n",
      "                                                                                                  \n",
      " Bacteria;Patescibacteria;Sacch  [(None, 1)]         0           []                               \n",
      " arimonadia (InputLayer)                                                                          \n",
      "                                                                                                  \n",
      " Bacteria;Proteobacteria;Alphap  [(None, 1)]         0           []                               \n",
      " roteobacteria (InputLayer)                                                                       \n",
      "                                                                                                  \n",
      " Bacteria;Proteobacteria;Gammap  [(None, 1)]         0           []                               \n",
      " roteobacteria (InputLayer)                                                                       \n",
      "                                                                                                  \n",
      " Bacteria;Spirochaetota;Brachys  [(None, 1)]         0           []                               \n",
      " pirae (InputLayer)                                                                               \n",
      "                                                                                                  \n",
      " Bacteria;Spirochaetota;Spiroch  [(None, 1)]         0           []                               \n",
      " aetia (InputLayer)                                                                               \n",
      "                                                                                                  \n",
      " Bacteria;Synergistota;Synergis  [(None, 1)]         0           []                               \n",
      " tia (InputLayer)                                                                                 \n",
      "                                                                                                  \n",
      " Bacteria;Verrucomicrobiota;Len  [(None, 1)]         0           []                               \n",
      " tisphaeria (InputLayer)                                                                          \n",
      "                                                                                                  \n",
      " normalization_1 (Normalization  (None, 1)           3           ['Bacteria;Abditibacteriota;Abdit\n",
      " )                                                               ibacteria[0][0]']                \n",
      "                                                                                                  \n",
      " normalization_2 (Normalization  (None, 1)           3           ['Bacteria;Acidobacteriota;Aminic\n",
      " )                                                               enantia[0][0]']                  \n",
      "                                                                                                  \n",
      " normalization_3 (Normalization  (None, 1)           3           ['Bacteria;Acidobacteriota;Blasto\n",
      " )                                                               catellia[0][0]']                 \n",
      "                                                                                                  \n",
      " normalization_4 (Normalization  (None, 1)           3           ['Bacteria;Acidobacteriota;Subgro\n",
      " )                                                               up 19[0][0]']                    \n",
      "                                                                                                  \n",
      " normalization_5 (Normalization  (None, 1)           3           ['Bacteria;Acidobacteriota;Subgro\n",
      " )                                                               up 5[0][0]']                     \n",
      "                                                                                                  \n",
      " normalization_6 (Normalization  (None, 1)           3           ['Bacteria;Acidobacteriota;Vicina\n",
      " )                                                               mibacteria[0][0]']               \n",
      "                                                                                                  \n",
      " normalization_7 (Normalization  (None, 1)           3           ['Bacteria;Actinobacteriota;Acidi\n",
      " )                                                               microbiia[0][0]']                \n",
      "                                                                                                  \n",
      " normalization_8 (Normalization  (None, 1)           3           ['Bacteria;Actinobacteriota;Actin\n",
      " )                                                               obacteria[0][0]']                \n",
      "                                                                                                  \n",
      " normalization_9 (Normalization  (None, 1)           3           ['Bacteria;Actinobacteriota;Corio\n",
      " )                                                               bacteriia[0][0]']                \n",
      "                                                                                                  \n",
      " normalization_10 (Normalizatio  (None, 1)           3           ['Bacteria;Actinobacteriota;Therm\n",
      " n)                                                              oleophilia[0][0]']               \n",
      "                                                                                                  \n",
      " normalization_11 (Normalizatio  (None, 1)           3           ['Bacteria;Bacteroidota;Bacteroid\n",
      " n)                                                              ia[0][0]']                       \n",
      "                                                                                                  \n",
      " normalization_12 (Normalizatio  (None, 1)           3           ['Bacteria;Bdellovibrionota;Bdell\n",
      " n)                                                              ovibrionia[0][0]']               \n",
      "                                                                                                  \n",
      " normalization_13 (Normalizatio  (None, 1)           3           ['Bacteria;Bdellovibrionota;Oligo\n",
      " n)                                                              flexia[0][0]']                   \n",
      "                                                                                                  \n",
      " normalization_14 (Normalizatio  (None, 1)           3           ['Bacteria;Campilobacterota;Campy\n",
      " n)                                                              lobacteria[0][0]']               \n",
      "                                                                                                  \n",
      " normalization_15 (Normalizatio  (None, 1)           3           ['Bacteria;Chloroflexi;Anaeroline\n",
      " n)                                                              ae[0][0]']                       \n",
      "                                                                                                  \n",
      " normalization_16 (Normalizatio  (None, 1)           3           ['Bacteria;Chloroflexi;Chloroflex\n",
      " n)                                                              ia[0][0]']                       \n",
      "                                                                                                  \n",
      " normalization_17 (Normalizatio  (None, 1)           3           ['Bacteria;Cyanobacteria;Cyanobac\n",
      " n)                                                              teriia[0][0]']                   \n",
      "                                                                                                  \n",
      " normalization_18 (Normalizatio  (None, 1)           3           ['Bacteria;Cyanobacteria;Vampiriv\n",
      " n)                                                              ibrionia[0][0]']                 \n",
      "                                                                                                  \n",
      " normalization_19 (Normalizatio  (None, 1)           3           ['Bacteria;Dependentiae;Babeliae[\n",
      " n)                                                              0][0]']                          \n",
      "                                                                                                  \n",
      " normalization_20 (Normalizatio  (None, 1)           3           ['Bacteria;Desulfobacterota;Desul\n",
      " n)                                                              fovibrionia[0][0]']              \n",
      "                                                                                                  \n",
      " normalization_21 (Normalizatio  (None, 1)           3           ['Bacteria;Desulfobacterota;Desul\n",
      " n)                                                              furomonadia[0][0]']              \n",
      "                                                                                                  \n",
      " normalization_22 (Normalizatio  (None, 1)           3           ['Bacteria;Desulfobacterota;Syntr\n",
      " n)                                                              ophia[0][0]']                    \n",
      "                                                                                                  \n",
      " normalization_23 (Normalizatio  (None, 1)           3           ['Bacteria;Elusimicrobiota;Elusim\n",
      " n)                                                              icrobia[0][0]']                  \n",
      "                                                                                                  \n",
      " normalization_24 (Normalizatio  (None, 1)           3           ['Bacteria;Elusimicrobiota;Lineag\n",
      " n)                                                              e IIa[0][0]']                    \n",
      "                                                                                                  \n",
      " normalization_25 (Normalizatio  (None, 1)           3           ['Bacteria;Fibrobacterota;Fibroba\n",
      " n)                                                              cteria[0][0]']                   \n",
      "                                                                                                  \n",
      " normalization_26 (Normalizatio  (None, 1)           3           ['Bacteria;Firmicutes;Bacilli[0][\n",
      " n)                                                              0]']                             \n",
      "                                                                                                  \n",
      " normalization_27 (Normalizatio  (None, 1)           3           ['Bacteria;Firmicutes;Clostridia[\n",
      " n)                                                              0][0]']                          \n",
      "                                                                                                  \n",
      " normalization_28 (Normalizatio  (None, 1)           3           ['Bacteria;Firmicutes;Incertae Se\n",
      " n)                                                              dis[0][0]']                      \n",
      "                                                                                                  \n",
      " normalization_29 (Normalizatio  (None, 1)           3           ['Bacteria;Firmicutes;Limnochordi\n",
      " n)                                                              a[0][0]']                        \n",
      "                                                                                                  \n",
      " normalization_30 (Normalizatio  (None, 1)           3           ['Bacteria;Firmicutes;Moorellia[0\n",
      " n)                                                              ][0]']                           \n",
      "                                                                                                  \n",
      " normalization_31 (Normalizatio  (None, 1)           3           ['Bacteria;Firmicutes;Negativicut\n",
      " n)                                                              es[0][0]']                       \n",
      "                                                                                                  \n",
      " normalization_32 (Normalizatio  (None, 1)           3           ['Bacteria;Firmicutes;Syntrophomo\n",
      " n)                                                              nadia[0][0]']                    \n",
      "                                                                                                  \n",
      " normalization_33 (Normalizatio  (None, 1)           3           ['Bacteria;Firmicutes;uncultured[\n",
      " n)                                                              0][0]']                          \n",
      "                                                                                                  \n",
      " normalization_34 (Normalizatio  (None, 1)           3           ['Bacteria;Fusobacteriota;Fusobac\n",
      " n)                                                              teriia[0][0]']                   \n",
      "                                                                                                  \n",
      " normalization_35 (Normalizatio  (None, 1)           3           ['Bacteria;Myxococcota;Polyangia[\n",
      " n)                                                              0][0]']                          \n",
      "                                                                                                  \n",
      " normalization_36 (Normalizatio  (None, 1)           3           ['Bacteria;Myxococcota;bacteriap2\n",
      " n)                                                              5[0][0]']                        \n",
      "                                                                                                  \n",
      " normalization_37 (Normalizatio  (None, 1)           3           ['Bacteria;Nitrospirota;Nitrospir\n",
      " n)                                                              ia[0][0]']                       \n",
      "                                                                                                  \n",
      " normalization_38 (Normalizatio  (None, 1)           3           ['Bacteria;Patescibacteria;Gracil\n",
      " n)                                                              ibacteria[0][0]']                \n",
      "                                                                                                  \n",
      " normalization_39 (Normalizatio  (None, 1)           3           ['Bacteria;Patescibacteria;Parcub\n",
      " n)                                                              acteria[0][0]']                  \n",
      "                                                                                                  \n",
      " normalization_40 (Normalizatio  (None, 1)           3           ['Bacteria;Patescibacteria;Saccha\n",
      " n)                                                              rimonadia[0][0]']                \n",
      "                                                                                                  \n",
      " normalization_41 (Normalizatio  (None, 1)           3           ['Bacteria;Proteobacteria;Alphapr\n",
      " n)                                                              oteobacteria[0][0]']             \n",
      "                                                                                                  \n",
      " normalization_42 (Normalizatio  (None, 1)           3           ['Bacteria;Proteobacteria;Gammapr\n",
      " n)                                                              oteobacteria[0][0]']             \n",
      "                                                                                                  \n",
      " normalization_43 (Normalizatio  (None, 1)           3           ['Bacteria;Spirochaetota;Brachysp\n",
      " n)                                                              irae[0][0]']                     \n",
      "                                                                                                  \n",
      " normalization_44 (Normalizatio  (None, 1)           3           ['Bacteria;Spirochaetota;Spirocha\n",
      " n)                                                              etia[0][0]']                     \n",
      "                                                                                                  \n",
      " normalization_45 (Normalizatio  (None, 1)           3           ['Bacteria;Synergistota;Synergist\n",
      " n)                                                              ia[0][0]']                       \n",
      "                                                                                                  \n",
      " normalization_46 (Normalizatio  (None, 1)           3           ['Bacteria;Verrucomicrobiota;Lent\n",
      " n)                                                              isphaeria[0][0]']                \n",
      "                                                                                                  \n",
      " concatenate (Concatenate)      (None, 46)           0           ['normalization_1[0][0]',        \n",
      "                                                                  'normalization_2[0][0]',        \n",
      "                                                                  'normalization_3[0][0]',        \n",
      "                                                                  'normalization_4[0][0]',        \n",
      "                                                                  'normalization_5[0][0]',        \n",
      "                                                                  'normalization_6[0][0]',        \n",
      "                                                                  'normalization_7[0][0]',        \n",
      "                                                                  'normalization_8[0][0]',        \n",
      "                                                                  'normalization_9[0][0]',        \n",
      "                                                                  'normalization_10[0][0]',       \n",
      "                                                                  'normalization_11[0][0]',       \n",
      "                                                                  'normalization_12[0][0]',       \n",
      "                                                                  'normalization_13[0][0]',       \n",
      "                                                                  'normalization_14[0][0]',       \n",
      "                                                                  'normalization_15[0][0]',       \n",
      "                                                                  'normalization_16[0][0]',       \n",
      "                                                                  'normalization_17[0][0]',       \n",
      "                                                                  'normalization_18[0][0]',       \n",
      "                                                                  'normalization_19[0][0]',       \n",
      "                                                                  'normalization_20[0][0]',       \n",
      "                                                                  'normalization_21[0][0]',       \n",
      "                                                                  'normalization_22[0][0]',       \n",
      "                                                                  'normalization_23[0][0]',       \n",
      "                                                                  'normalization_24[0][0]',       \n",
      "                                                                  'normalization_25[0][0]',       \n",
      "                                                                  'normalization_26[0][0]',       \n",
      "                                                                  'normalization_27[0][0]',       \n",
      "                                                                  'normalization_28[0][0]',       \n",
      "                                                                  'normalization_29[0][0]',       \n",
      "                                                                  'normalization_30[0][0]',       \n",
      "                                                                  'normalization_31[0][0]',       \n",
      "                                                                  'normalization_32[0][0]',       \n",
      "                                                                  'normalization_33[0][0]',       \n",
      "                                                                  'normalization_34[0][0]',       \n",
      "                                                                  'normalization_35[0][0]',       \n",
      "                                                                  'normalization_36[0][0]',       \n",
      "                                                                  'normalization_37[0][0]',       \n",
      "                                                                  'normalization_38[0][0]',       \n",
      "                                                                  'normalization_39[0][0]',       \n",
      "                                                                  'normalization_40[0][0]',       \n",
      "                                                                  'normalization_41[0][0]',       \n",
      "                                                                  'normalization_42[0][0]',       \n",
      "                                                                  'normalization_43[0][0]',       \n",
      "                                                                  'normalization_44[0][0]',       \n",
      "                                                                  'normalization_45[0][0]',       \n",
      "                                                                  'normalization_46[0][0]']       \n",
      "                                                                                                  \n",
      " dense (Dense)                  (None, 32)           1504        ['concatenate[0][0]']            \n",
      "                                                                                                  \n",
      " dropout (Dropout)              (None, 32)           0           ['dense[0][0]']                  \n",
      "                                                                                                  \n",
      " Bacteria;Verrucomicrobiota;Ver  [(None, 1)]         0           []                               \n",
      " rucomicrobiae (InputLayer)                                                                       \n",
      "                                                                                                  \n",
      " dense_1 (Dense)                (None, 1)            33          ['dropout[0][0]']                \n",
      "                                                                                                  \n",
      "==================================================================================================\n",
      "Total params: 1,675\n",
      "Trainable params: 1,537\n",
      "Non-trainable params: 138\n",
      "__________________________________________________________________________________________________\n"
     ]
    }
   ],
   "source": [
    "model.summary()"
   ],
   "metadata": {
    "collapsed": false
   }
  }
 ],
 "metadata": {
  "kernelspec": {
   "display_name": "Python 3",
   "language": "python",
   "name": "python3"
  },
  "language_info": {
   "codemirror_mode": {
    "name": "ipython",
    "version": 2
   },
   "file_extension": ".py",
   "mimetype": "text/x-python",
   "name": "python",
   "nbconvert_exporter": "python",
   "pygments_lexer": "ipython2",
   "version": "2.7.6"
  }
 },
 "nbformat": 4,
 "nbformat_minor": 0
}
